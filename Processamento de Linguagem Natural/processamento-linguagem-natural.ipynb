{
  "nbformat": 4,
  "nbformat_minor": 0,
  "metadata": {
    "colab": {
      "provenance": [],
      "gpuType": "T4"
    },
    "kernelspec": {
      "name": "python3",
      "display_name": "Python 3"
    },
    "language_info": {
      "name": "python"
    },
    "accelerator": "GPU",
    "gpuClass": "standard"
  },
  "cells": [
    {
      "cell_type": "code",
      "source": [
        "!git clone https://github.com/Mjrovai/MachadoAssisBot"
      ],
      "metadata": {
        "colab": {
          "base_uri": "https://localhost:8080/"
        },
        "id": "QwCRqzILoyAW",
        "outputId": "eb6bc868-3807-45e0-ef9a-cb374bb27a38"
      },
      "execution_count": 1,
      "outputs": [
        {
          "output_type": "stream",
          "name": "stdout",
          "text": [
            "Cloning into 'MachadoAssisBot'...\n",
            "remote: Enumerating objects: 26, done.\u001b[K\n",
            "remote: Counting objects: 100% (26/26), done.\u001b[K\n",
            "remote: Compressing objects: 100% (26/26), done.\u001b[K\n",
            "remote: Total 26 (delta 8), reused 0 (delta 0), pack-reused 0\u001b[K\n",
            "Unpacking objects: 100% (26/26), 1.87 MiB | 4.01 MiB/s, done.\n"
          ]
        }
      ]
    },
    {
      "cell_type": "code",
      "source": [
        "import shutil\n",
        "\n",
        "shutil.move('./MachadoAssisBot/machado', './')\n",
        "shutil.rmtree('./MachadoAssisBot')"
      ],
      "metadata": {
        "id": "rAh7BkZ-um8Z"
      },
      "execution_count": 2,
      "outputs": []
    },
    {
      "cell_type": "code",
      "source": [
        "path = './machado/'\n",
        "\n",
        "text1 = open(path+'casmurro.txt', 'r').read()\n",
        "text2 = open(path+'mao_luva.txt', 'r').read()\n",
        "text3 = open(path+'memorias.txt', 'r').read()\n",
        "text4 = open(path+'quincas.txt', 'r').read()\n",
        "text5 = open(path+'esau_jacob.txt', 'r').read()\n",
        "text6 = open(path+'memorial.txt', 'r').read()\n",
        "text7 = open(path+'papeis.txt', 'r').read()\n",
        "\n",
        "text = text1+text2+text3+text4+text5+text6+text7"
      ],
      "metadata": {
        "id": "cY8YxzlQxH9B"
      },
      "execution_count": 3,
      "outputs": []
    },
    {
      "cell_type": "code",
      "source": [
        "machado = open('machado.txt','w')\n",
        "machado.write(text)\n",
        "machado.close()"
      ],
      "metadata": {
        "id": "o5SOivNlxnyv"
      },
      "execution_count": 4,
      "outputs": []
    },
    {
      "cell_type": "code",
      "source": [
        "text = open('machado.txt', 'r').read()\n",
        "vocab = sorted(set(text))"
      ],
      "metadata": {
        "id": "QoY2a-olx0oR"
      },
      "execution_count": 5,
      "outputs": []
    },
    {
      "cell_type": "code",
      "source": [
        "import numpy as np\n",
        "\n",
        "char_to_ind = {char:ind for ind, char in enumerate(vocab)}\n",
        "ind_to_char = np.array(vocab)\n",
        "encoded_text = np.array([char_to_ind[c] for c in text])"
      ],
      "metadata": {
        "id": "1rLMSgsDyELT"
      },
      "execution_count": 6,
      "outputs": []
    },
    {
      "cell_type": "code",
      "source": [
        "seq_len = 120\n",
        "total_num_seq = len(text)//(seq_len+1)"
      ],
      "metadata": {
        "id": "KJCd6KbVy5Yu"
      },
      "execution_count": 7,
      "outputs": []
    },
    {
      "cell_type": "code",
      "source": [
        "def create_seq_targets(seq):\n",
        "    input_txt = seq[:-1]\n",
        "    target_txt = seq[1:]\n",
        "    return input_txt, target_txt"
      ],
      "metadata": {
        "id": "1OBDNsavzcJo"
      },
      "execution_count": 8,
      "outputs": []
    },
    {
      "cell_type": "code",
      "source": [
        "import tensorflow as tf\n",
        "\n",
        "char_dataset = tf.data.Dataset.from_tensor_slices(encoded_text)\n",
        "sequences = char_dataset.batch(seq_len+1, drop_remainder=True)\n",
        "\n",
        "dataset = sequences.map(create_seq_targets)"
      ],
      "metadata": {
        "id": "Cns0dM83zF4E"
      },
      "execution_count": 9,
      "outputs": []
    },
    {
      "cell_type": "code",
      "source": [
        "batch_size = 128\n",
        "buffer_size = 10000\n",
        "\n",
        "dataset = dataset.shuffle(buffer_size).batch(batch_size, drop_remainder=True)"
      ],
      "metadata": {
        "id": "6egcs-qK0lXO"
      },
      "execution_count": 10,
      "outputs": []
    },
    {
      "cell_type": "code",
      "source": [
        "from tensorflow.keras.models import Sequential\n",
        "from tensorflow.keras.layers import Dense,Embedding,GRU\n",
        "from tensorflow.keras.losses import sparse_categorical_crossentropy\n",
        "\n",
        "def sparse_cat_loss(y_true,y_pred):\n",
        "    return sparse_categorical_crossentropy(y_true, y_pred, from_logits=True)\n",
        "\n",
        "def create_model(vocab_size, embed_dim, rnn_neurons, batch_size):\n",
        "    model = Sequential()\n",
        "    model.add(Embedding(vocab_size, embed_dim,batch_input_shape=[batch_size, None]))\n",
        "    model.add(GRU(rnn_neurons,return_sequences=True,stateful=True,recurrent_initializer='glorot_uniform'))\n",
        "    model.add(Dense(vocab_size))\n",
        "    model.compile(optimizer='adam', loss=sparse_cat_loss) \n",
        "    return model"
      ],
      "metadata": {
        "id": "8wfPyrHv0yzT"
      },
      "execution_count": 11,
      "outputs": []
    },
    {
      "cell_type": "code",
      "source": [
        "vocab_size = len(vocab)\n",
        "embed_dim = 64\n",
        "rnn_neurons = 1026"
      ],
      "metadata": {
        "id": "MQBy9OWm0rgq"
      },
      "execution_count": 12,
      "outputs": []
    },
    {
      "cell_type": "code",
      "source": [
        "model = create_model(\n",
        "  vocab_size = vocab_size,\n",
        "  embed_dim=embed_dim,\n",
        "  rnn_neurons=rnn_neurons,\n",
        "  batch_size=batch_size\n",
        ")"
      ],
      "metadata": {
        "id": "gY-RahJC0--5"
      },
      "execution_count": 13,
      "outputs": []
    },
    {
      "cell_type": "code",
      "source": [
        "for input_example_batch, target_example_batch in dataset.take(1):\n",
        "\n",
        "  example_batch_predictions = model(input_example_batch)"
      ],
      "metadata": {
        "id": "nK4g9Vyt1f-T"
      },
      "execution_count": 14,
      "outputs": []
    },
    {
      "cell_type": "code",
      "source": [
        "sampled_indices = tf.random.categorical(example_batch_predictions[0], num_samples=1)\n",
        "sampled_indices = tf.squeeze(sampled_indices,axis=-1).numpy()"
      ],
      "metadata": {
        "id": "apaH31BxsA7j"
      },
      "execution_count": 15,
      "outputs": []
    },
    {
      "cell_type": "code",
      "source": [
        "epochs = 30"
      ],
      "metadata": {
        "id": "Pr29Jpjg2Ds9"
      },
      "execution_count": 16,
      "outputs": []
    },
    {
      "cell_type": "code",
      "source": [
        "model.fit(dataset,epochs=epochs)\n",
        "model.save('machado_gen.h5')"
      ],
      "metadata": {
        "colab": {
          "base_uri": "https://localhost:8080/"
        },
        "id": "1AsrHq2V5wtK",
        "outputId": "6f265f76-9136-4757-e2b0-92f6b832a6cd"
      },
      "execution_count": 17,
      "outputs": [
        {
          "output_type": "stream",
          "name": "stdout",
          "text": [
            "Epoch 1/30\n",
            "156/156 [==============================] - 28s 135ms/step - loss: 2.8601\n",
            "Epoch 2/30\n",
            "156/156 [==============================] - 26s 133ms/step - loss: 2.1922\n",
            "Epoch 3/30\n",
            "156/156 [==============================] - 24s 139ms/step - loss: 1.9552\n",
            "Epoch 4/30\n",
            "156/156 [==============================] - 25s 142ms/step - loss: 1.7478\n",
            "Epoch 5/30\n",
            "156/156 [==============================] - 24s 139ms/step - loss: 1.5944\n",
            "Epoch 6/30\n",
            "156/156 [==============================] - 24s 143ms/step - loss: 1.4951\n",
            "Epoch 7/30\n",
            "156/156 [==============================] - 24s 139ms/step - loss: 1.4261\n",
            "Epoch 8/30\n",
            "156/156 [==============================] - 23s 137ms/step - loss: 1.3781\n",
            "Epoch 9/30\n",
            "156/156 [==============================] - 24s 140ms/step - loss: 1.3416\n",
            "Epoch 10/30\n",
            "156/156 [==============================] - 24s 142ms/step - loss: 1.3125\n",
            "Epoch 11/30\n",
            "156/156 [==============================] - 23s 137ms/step - loss: 1.2881\n",
            "Epoch 12/30\n",
            "156/156 [==============================] - 24s 138ms/step - loss: 1.2663\n",
            "Epoch 13/30\n",
            "156/156 [==============================] - 24s 143ms/step - loss: 1.2450\n",
            "Epoch 14/30\n",
            "156/156 [==============================] - 24s 142ms/step - loss: 1.2258\n",
            "Epoch 15/30\n",
            "156/156 [==============================] - 24s 136ms/step - loss: 1.2081\n",
            "Epoch 16/30\n",
            "156/156 [==============================] - 25s 143ms/step - loss: 1.1892\n",
            "Epoch 17/30\n",
            "156/156 [==============================] - 24s 139ms/step - loss: 1.1710\n",
            "Epoch 18/30\n",
            "156/156 [==============================] - 23s 136ms/step - loss: 1.1538\n",
            "Epoch 19/30\n",
            "156/156 [==============================] - 24s 143ms/step - loss: 1.1366\n",
            "Epoch 20/30\n",
            "156/156 [==============================] - 24s 139ms/step - loss: 1.1183\n",
            "Epoch 21/30\n",
            "156/156 [==============================] - 24s 138ms/step - loss: 1.1011\n",
            "Epoch 22/30\n",
            "156/156 [==============================] - 24s 141ms/step - loss: 1.0830\n",
            "Epoch 23/30\n",
            "156/156 [==============================] - 24s 138ms/step - loss: 1.0650\n",
            "Epoch 24/30\n",
            "156/156 [==============================] - 24s 143ms/step - loss: 1.0473\n",
            "Epoch 25/30\n",
            "156/156 [==============================] - 24s 138ms/step - loss: 1.0291\n",
            "Epoch 26/30\n",
            "156/156 [==============================] - 24s 139ms/step - loss: 1.0116\n",
            "Epoch 27/30\n",
            "156/156 [==============================] - 24s 141ms/step - loss: 0.9958\n",
            "Epoch 28/30\n",
            "156/156 [==============================] - 24s 140ms/step - loss: 0.9777\n",
            "Epoch 29/30\n",
            "156/156 [==============================] - 24s 141ms/step - loss: 0.9615\n",
            "Epoch 30/30\n",
            "156/156 [==============================] - 24s 141ms/step - loss: 0.9470\n"
          ]
        }
      ]
    },
    {
      "cell_type": "code",
      "source": [
        "model = create_model(vocab_size, embed_dim, rnn_neurons, batch_size=1)\n",
        "model.load_weights('machado_gen.h5')\n",
        "model.build(tf.TensorShape([1, None]))"
      ],
      "metadata": {
        "id": "3d4paD_T-AZT"
      },
      "execution_count": 18,
      "outputs": []
    },
    {
      "cell_type": "code",
      "source": [
        "def generate_text(model, start_seed, gen_size=100, temp=1.0):\n",
        "    num_generate = gen_size\n",
        "\n",
        "    input_eval = [char_to_ind[s] for s in start_seed]\n",
        "    input_eval = tf.expand_dims(input_eval, 0)\n",
        "\n",
        "    text_generated = []\n",
        "\n",
        "    temperature = temp\n",
        "\n",
        "    model.reset_states()\n",
        "\n",
        "    for i in range(num_generate):\n",
        "        predictions = model(input_eval)\n",
        "        predictions = tf.squeeze(predictions, 0)\n",
        "        predictions = predictions / temperature\n",
        "        predicted_id = tf.random.categorical(predictions, num_samples=1)[-1,0].numpy()\n",
        "\n",
        "        input_eval = tf.expand_dims([predicted_id], 0)\n",
        "\n",
        "        text_generated.append(ind_to_char[predicted_id])\n",
        "\n",
        "    return (start_seed + ''.join(text_generated))"
      ],
      "metadata": {
        "id": "sQynE2Hm_Hie"
      },
      "execution_count": 19,
      "outputs": []
    },
    {
      "cell_type": "code",
      "source": [
        "print(generate_text(model,\"Maria\",gen_size=1000))"
      ],
      "metadata": {
        "colab": {
          "base_uri": "https://localhost:8080/"
        },
        "id": "miAb14nPAxFJ",
        "outputId": "ef79c24b-73c2-4a72-c020-94b26206f655"
      },
      "execution_count": 20,
      "outputs": [
        {
          "output_type": "stream",
          "name": "stdout",
          "text": [
            "Mariadente; de todo caso, porém, eu estou\n",
            "frentes a um peralta noite.\n",
            "\n",
            "Ita vez\n",
            "philosophando triste o conhe, despeu e vinha á vontade do joelho, e uma parenta do arciber\n",
            "fizera vivos e calvais amigos.\n",
            "\n",
            "O Alistia dos gemeos são declarou a\n",
            "impressão que Flora era como se ouvessa, Santos, em gostamento, e acho Ayres\n",
            "fechal-o, mandava vinte e dous, e lá se ia a mim. Emfim, chegou-se á mema; elle, absolvado das\n",
            "respeitamente que calarres da obra demasiada forte e de pae depressa, logo, sem que\n",
            "desejasse de bom humano. Cheguei a vista.\n",
            "Assim fôra tevia a condição do ordeno adoecer: assim á janella, onde não achasse ninguem; tinha os reunte da\n",
            "hyputação tocava nos seus chefes politicos desembargadores, tanto fazendo que lêm e haveria de bruços e pena, esmer que\n",
            "ella faz uma só cessaria nunca; desejava, apazece antes o nome proposta, deixava-se isto\n",
            "e alegre, sem que outo posso effeito, segundo as ruas estava grave, Mas os doentes furtos e os\n",
            "primeiros frequentes, e foi convidando-me em o seu genio\n"
          ]
        }
      ]
    },
    {
      "cell_type": "code",
      "source": [
        "print(generate_text(model,\" CASMURRO \",gen_size=1000))"
      ],
      "metadata": {
        "colab": {
          "base_uri": "https://localhost:8080/"
        },
        "id": "dL_F1k2tAmbf",
        "outputId": "40c00736-daa3-4847-fa17-a59009151926"
      },
      "execution_count": 21,
      "outputs": [
        {
          "output_type": "stream",
          "name": "stdout",
          "text": [
            " CASMURRO CLXXV\n",
            "\n",
            "Ora foi por ora;\n",
            "minha impressão se seria perdel-os; eu acadeiramente absurda, e bem a\n",
            "menina; mas eu á portholar tão expansido, que o não acontecea. Na\n",
            "acção do ultimo encerroguro da casa; ouviu Braz Cubas_, olhou para fóra, a\n",
            "ponta do nariz, calado, uma vontade de cobrada, ao contrario: os alejantes de inveja era sempendi ella ou e\n",
            "ver se podem vivia de uma calumnia, até que\n",
            "dormia, se este\n",
            "e aos seus proprios sentidos. Desappertava-se muccumbrança e fue\n",
            "talvez não poderia nda, e beaças. D. Rita ficou sem conhecer para\n",
            "todas as sobrancelhas, faziam o sentido\n",
            "de cabellos, e me disse que era boa. A moça não é\n",
            "gastadeiras alegres: os bensfitou da cama Alhas e bebdes... passaram planos durante alguns minutos.\n",
            "Examinhucei pendurado, com o dedoculo, por um bemso\n",
            "parecido com as mesmascasta e sair; queria doente.\n",
            "\n",
            "--Mrs. Oswald, disse-lhe que o Livro é destinar a nté\n",
            "que consultassem. Carlos Maria; ainda meteda para saber se assim\n",
            "explicado, não entendia cá para as leis. Quer\n",
            "que eu \n"
          ]
        }
      ]
    },
    {
      "cell_type": "code",
      "source": [
        "print(generate_text(model,\" Rio de Janeiro  \",gen_size=5000))"
      ],
      "metadata": {
        "colab": {
          "base_uri": "https://localhost:8080/"
        },
        "id": "VMV4uEgtAoCL",
        "outputId": "e29e458c-b364-426c-8029-05983e70207e"
      },
      "execution_count": 22,
      "outputs": [
        {
          "output_type": "stream",
          "name": "stdout",
          "text": [
            " Rio de Janeiro  catas de anterior;\n",
            "onde fui fazer outra visita podia ter.\n",
            "\n",
            "\n",
            "\n",
            "\n",
            "CXXXVII\n",
            "\n",
            "A mãe estavam alegre.\n",
            "Depois lhe queira, vi jantar commigo. Simão\n",
            "Bacamarte não foi claro ou todo o embarcar. Já extrahos na qualidade\n",
            "dos homens. Tambem não fazia desejar,--ou que fim rarões, o\n",
            "fechor da acção ao Palha; mas não creia de uma casa visinha.\n",
            "\n",
            "--Sahiu, vou genio e cedo-se a tro estante. Vamos\n",
            "resistir-lhe a mesma cousa rice, dez minutos, que o Aguiar\n",
            "entrou a falar\n",
            "delle. Estevão era feio que tambem foi liberal, sinhá\n",
            "fel-a demorar as almas. Paulo houve que Lopo Alves alem de lá conferente á casa\n",
            "della por tuas vozes, senão acceital, nem a occasíão tive de deu um para outro\n",
            "nome, e por outras tantas tiveras jantas. Da nossa todos os dias explicaram logo, e pedia a ponta de\n",
            "um pae, lentamente para elle jorá a ir comprimental-o.\n",
            "\n",
            "Rubião cada pertão e resolutra contralidade de D. Maria\n",
            "da Gloria (em Voss vines, e.... Inventadas cerradas ou só horas. D. Tonica, que quando tornava\n",
            "aos pés della, não a mente. Comtudo, inteiramente se ia\n",
            "ter commigo; e de uma licção de lingua, viuva e meigu, Dias\n",
            "depois, como a vigilia de Pascal, que vilha, Pedro devia gratar o resto. Em que\n",
            "destes a occupara esta enxugada.\n",
            "\n",
            "A minha pação fosse achar qualquer outra carta de Guiomar, sendo pae e ás nossas relações; é só o que\n",
            "quizesse. esta cançação seguiu para ver comprar a outra.\n",
            "Mas não se lhes prestava tatura. E correu infinito. Tudo isso naturalmente\n",
            "traz das mãos,--um papei um Lyrbo), que murá contra extrahão.\n",
            "\n",
            "O barbeiro uiolar dos trimentos, por exemplo, com a dor do outro,\n",
            "com graça, com quanto podiamos conversar certas extraordinarias, que\n",
            "soubessem barones. Não direi tudo o que pensou.\n",
            "Calumnia ao silencio; os rapazes e os filhos da Alma escreveu ir á fazenda, e viu a mesma senhora\n",
            "póde tambem. Ainda ha morremos alguns como trataram como as que ainda lhe\n",
            "lembrava, ninguem no peccámos o consentimento, deu-se\n",
            "que a sobrinha não podesse provar o que me disseram-nos, mas não me lembra o\n",
            "mais sublime e triste. No meio dos seis horas, fresca de uma besta, indignada,\n",
            "pedil-o quando elle enchia o outro.\n",
            "\n",
            "--A viuva Noronha!\n",
            "\n",
            "Santa-Pia não é a ideia de engosido. Trouxer francamente pelo vacio\n",
            "essas unicas, medicou-se.\n",
            "\n",
            "--Bem, Deus! Deve, aprendida encantada; apalpa da cara olhando. O riso das conjecturas vamas a\n",
            "rancara, o mais de toda a alma indignação e a satisfação. Nenhuma dessas batinas; a\n",
            "andar para o cavallige atterredar-me no meio da sala, como se ella não é cousa que\n",
            "não fosse; elle interveiu:\n",
            "\n",
            "--Coitei da vi miseravel ao movimento de Paulo. Em summa, é\n",
            "verdade. Comecemos comsigo os beiços, dentro da cara um ajoe a meu baile. Saí ao do pinheiro e um\n",
            "seculo, sem ouvir alguma viuva; tambem lhe aposto alguma cousa, e\n",
            "abrangiam a Fidelia e D. Carmo desse mesmo ultimo instincto tarde; e Baptista, relembrava\n",
            "largo e muio. Tinha os seus annos que m'a morte não teimasse mal. Com ella, se te azues, ha tempos, e ia\n",
            "levar os dias salisei-me e jantar alguns dias juntos. Uma parede esperar\n",
            "a vidraça de banco. Santos cuidava finalmente a leitura dos nossos\n",
            "jantares. Só os espectadores,\n",
            "«Mas entendeu D. Carmo abrindiam, a de dizer tudo, ideia clara, com uma gravata, em\n",
            "resposta consolar as mãos ás cousas duplaceiro, castigam-se; mas nenhum\n",
            "me perdoaria aos seus ordados, almoçados com o nome. Unicamente pedia a\n",
            "constituição, salvo nada em cima de um serio e outro pouco ou nada.\n",
            "O obrado estava pedir, e o imperador, o barbeiro, onde\n",
            "Luiz Alves lêranta, botas de donzello, um\n",
            "autor da alcançar. Confessou que não resume, e ha\n",
            "licença pelas l. Esteve duas vezes o exame da Casa Verde;\n",
            "elle recolherava sem olera a uma consequência, da dividia que lhe\n",
            "doia. Viuque vae alli tem-se...\n",
            "\n",
            "São intensiscruto, tanto que lhe deu nem lera este Mrs. Oswald fechando as cavallos...\n",
            "\n",
            "--Diga-lhe que os olhos delle... Que soubesse que a madrinha voltou a sair do seu\n",
            "tempo antes do que comprimental-o.\n",
            "\n",
            "Sophia interrompto; ainda que dava por escutar e tirar\n",
            "o recomeço, e lia-se...\n",
            "\n",
            "Jostado com que antes de fez nobrecarta e inveja capaz de veneração.\n",
            "\n",
            "--Eu? pois, disse elle; pelo que, se alguma chama bem\n",
            "baile, Tristão desfia-me, succedeu; todos em casa de pobre\n",
            "Capitú chamava Capitú; o Principal é que o Xavier convidou a existencia\n",
            "do pae bel-a outro. Vi taquara vez muito, solitaria\n",
            "e pepada e o cavalleiro. Era justamente pedrar os antigos fechaes, e\n",
            "mas a manhã do dia accendeu-os commigo a\n",
            "alma tocha, que me deixavam chegar aos outros; soube que, se iam mostrando uma\n",
            "paixão, á cabeceira da companhia. Fez-se um pouco respeitado em\n",
            "casa. Sim, desejo sair da sala,\n",
            "para onda do pae para a casa do bilhete, parecia antes de crer\n",
            "que a persão da baroneza, tão entre o cér do charuto, posto que se realizava tarbara a sua\n",
            "grande inclina e pensava, cabello, como elles é que o convite. Era minha ir, quando\n",
            "um homem des pequenos, contas n'este capitalista. Como me dava com a varão tem se repetisse\n",
            "qualquer conclusão, Tristou pelas péenostes ou\n",
            "pedem que ainda assim, mas não admira aos dousis \n"
          ]
        }
      ]
    },
    {
      "cell_type": "code",
      "source": [
        "print(generate_text(model,\"A LUVA DE CASMURRO \",gen_size=5000))"
      ],
      "metadata": {
        "id": "EsGBetRWApiS"
      },
      "execution_count": null,
      "outputs": []
    },
    {
      "cell_type": "code",
      "source": [
        "print(generate_text(model,\"A LUVA DE CASMURRO \",gen_size=5000, temp=0.5))\n"
      ],
      "metadata": {
        "id": "4QWwx0opAqLu"
      },
      "execution_count": null,
      "outputs": []
    }
  ]
}