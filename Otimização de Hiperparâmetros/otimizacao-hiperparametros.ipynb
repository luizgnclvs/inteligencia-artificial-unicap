{
  "cells": [
    {
      "cell_type": "code",
      "source": [
        "import tensorflow as tf"
      ],
      "metadata": {
        "id": "-nl3PIYk2MVG"
      },
      "execution_count": 1,
      "outputs": []
    },
    {
      "cell_type": "code",
      "source": [
        "# Definindo inputs dos modelos\n",
        "\n",
        "# Modelos de 1 camada\n",
        "inputs_a = tf.keras.Input(shape=(4,))\n",
        "inputs_b = tf.keras.Input(shape=(4,))\n",
        "inputs_c = tf.keras.Input(shape=(4,))\n",
        "inputs_d = tf.keras.Input(shape=(4,))\n",
        "inputs_e = tf.keras.Input(shape=(4,))\n",
        "\n",
        "# Modelos de 5 camadas\n",
        "inputs_f = tf.keras.Input(shape=(4,))\n",
        "inputs_g = tf.keras.Input(shape=(4,))\n",
        "inputs_h = tf.keras.Input(shape=(4,))\n",
        "inputs_i = tf.keras.Input(shape=(4,))\n",
        "inputs_j = tf.keras.Input(shape=(4,))\n",
        "\n",
        "# Modelos de 7 camadas\n",
        "inputs_k = tf.keras.Input(shape=(4,))\n",
        "inputs_l = tf.keras.Input(shape=(4,))\n",
        "inputs_m = tf.keras.Input(shape=(4,))\n",
        "inputs_n = tf.keras.Input(shape=(4,))\n",
        "inputs_o = tf.keras.Input(shape=(4,))\n",
        "\n",
        "# Modelos de 10 camadas\n",
        "inputs_p = tf.keras.Input(shape=(4,))\n",
        "inputs_q = tf.keras.Input(shape=(4,))\n",
        "inputs_r = tf.keras.Input(shape=(4,))\n",
        "inputs_s = tf.keras.Input(shape=(4,))\n",
        "inputs_t = tf.keras.Input(shape=(4,))"
      ],
      "metadata": {
        "id": "2Ktvm7-K2MiE"
      },
      "execution_count": 2,
      "outputs": []
    },
    {
      "cell_type": "code",
      "source": [
        "# Primeira camada escondida dos modelos\n",
        "\n",
        "# Modelos de 1 camada\n",
        "hidden_layer_a_1 = tf.keras.layers.Dense(units=25, activation='relu')(inputs_a)\n",
        "hidden_layer_b_1 = tf.keras.layers.Dense(units=50, activation='relu')(inputs_b)\n",
        "hidden_layer_c_1 = tf.keras.layers.Dense(units=100, activation='relu')(inputs_c)\n",
        "hidden_layer_d_1 = tf.keras.layers.Dense(units=200, activation='relu')(inputs_d)\n",
        "hidden_layer_e_1 = tf.keras.layers.Dense(units=500, activation='relu')(inputs_e)\n",
        "\n",
        "# Modelos de 5 camadas\n",
        "hidden_layer_f_1 = tf.keras.layers.Dense(units=25, activation='relu')(inputs_f)\n",
        "hidden_layer_g_1 = tf.keras.layers.Dense(units=50, activation='relu')(inputs_g)\n",
        "hidden_layer_h_1 = tf.keras.layers.Dense(units=100, activation='relu')(inputs_h)\n",
        "hidden_layer_i_1 = tf.keras.layers.Dense(units=200, activation='relu')(inputs_i)\n",
        "hidden_layer_j_1 = tf.keras.layers.Dense(units=500, activation='relu')(inputs_j)\n",
        "\n",
        "# Modelos de 7 camadas\n",
        "hidden_layer_k_1 = tf.keras.layers.Dense(units=25, activation='relu')(inputs_k)\n",
        "hidden_layer_l_1 = tf.keras.layers.Dense(units=50, activation='relu')(inputs_l)\n",
        "hidden_layer_m_1 = tf.keras.layers.Dense(units=100, activation='relu')(inputs_m)\n",
        "hidden_layer_n_1 = tf.keras.layers.Dense(units=200, activation='relu')(inputs_n)\n",
        "hidden_layer_o_1 = tf.keras.layers.Dense(units=500, activation='relu')(inputs_o)\n",
        "\n",
        "# Modelos de 10 camadas\n",
        "hidden_layer_p_1 = tf.keras.layers.Dense(units=25, activation='relu')(inputs_p)\n",
        "hidden_layer_q_1 = tf.keras.layers.Dense(units=50, activation='relu')(inputs_q)\n",
        "hidden_layer_r_1 = tf.keras.layers.Dense(units=100, activation='relu')(inputs_r)\n",
        "hidden_layer_s_1 = tf.keras.layers.Dense(units=200, activation='relu')(inputs_s)\n",
        "hidden_layer_t_1 = tf.keras.layers.Dense(units=500, activation='relu')(inputs_t)\n"
      ],
      "metadata": {
        "id": "eiB6fD452MlS"
      },
      "execution_count": 3,
      "outputs": []
    },
    {
      "cell_type": "code",
      "source": [
        "# Segunda camada escondida\n",
        "\n",
        "# Modelos de 5 camadas\n",
        "hidden_layer_f_2 = tf.keras.layers.Dense(units=25, activation='relu')(hidden_layer_f_1)\n",
        "hidden_layer_g_2 = tf.keras.layers.Dense(units=50, activation='relu')(hidden_layer_g_1)\n",
        "hidden_layer_h_2 = tf.keras.layers.Dense(units=100, activation='relu')(hidden_layer_h_1)\n",
        "hidden_layer_i_2 = tf.keras.layers.Dense(units=200, activation='relu')(hidden_layer_i_1)\n",
        "hidden_layer_j_2 = tf.keras.layers.Dense(units=500, activation='relu')(hidden_layer_j_1)\n",
        "\n",
        "# Modelos de 7 camadas\n",
        "hidden_layer_k_2 = tf.keras.layers.Dense(units=25, activation='relu')(hidden_layer_k_1)\n",
        "hidden_layer_l_2 = tf.keras.layers.Dense(units=50, activation='relu')(hidden_layer_l_1)\n",
        "hidden_layer_m_2 = tf.keras.layers.Dense(units=100, activation='relu')(hidden_layer_m_1)\n",
        "hidden_layer_n_2 = tf.keras.layers.Dense(units=200, activation='relu')(hidden_layer_n_1)\n",
        "hidden_layer_o_2 = tf.keras.layers.Dense(units=500, activation='relu')(hidden_layer_o_1)\n",
        "\n",
        "# Modelos de 10 camadas\n",
        "hidden_layer_p_2 = tf.keras.layers.Dense(units=25, activation='relu')(hidden_layer_p_1)\n",
        "hidden_layer_q_2 = tf.keras.layers.Dense(units=50, activation='relu')(hidden_layer_q_1)\n",
        "hidden_layer_r_2 = tf.keras.layers.Dense(units=100, activation='relu')(hidden_layer_r_1)\n",
        "hidden_layer_s_2 = tf.keras.layers.Dense(units=200, activation='relu')(hidden_layer_s_1)\n",
        "hidden_layer_t_2 = tf.keras.layers.Dense(units=500, activation='relu')(hidden_layer_t_1)"
      ],
      "metadata": {
        "id": "zYOKh5nT2MpB"
      },
      "execution_count": 4,
      "outputs": []
    },
    {
      "cell_type": "code",
      "source": [
        "# Terceira camada escondida\n",
        "\n",
        "# Modelos de 5 camadas\n",
        "hidden_layer_f_3 = tf.keras.layers.Dense(units=25, activation='relu')(hidden_layer_f_2)\n",
        "hidden_layer_g_3 = tf.keras.layers.Dense(units=50, activation='relu')(hidden_layer_g_2)\n",
        "hidden_layer_h_3 = tf.keras.layers.Dense(units=100, activation='relu')(hidden_layer_h_2)\n",
        "hidden_layer_i_3 = tf.keras.layers.Dense(units=200, activation='relu')(hidden_layer_i_2)\n",
        "hidden_layer_j_3 = tf.keras.layers.Dense(units=500, activation='relu')(hidden_layer_j_2)\n",
        "\n",
        "# Modelos de 7 camadas\n",
        "hidden_layer_k_3 = tf.keras.layers.Dense(units=25, activation='relu')(hidden_layer_k_2)\n",
        "hidden_layer_l_3 = tf.keras.layers.Dense(units=50, activation='relu')(hidden_layer_l_2)\n",
        "hidden_layer_m_3 = tf.keras.layers.Dense(units=100, activation='relu')(hidden_layer_m_2)\n",
        "hidden_layer_n_3 = tf.keras.layers.Dense(units=200, activation='relu')(hidden_layer_n_2)\n",
        "hidden_layer_o_3 = tf.keras.layers.Dense(units=500, activation='relu')(hidden_layer_o_2)\n",
        "\n",
        "# Modelos de 10 camadas\n",
        "hidden_layer_p_3 = tf.keras.layers.Dense(units=25, activation='relu')(hidden_layer_p_2)\n",
        "hidden_layer_q_3 = tf.keras.layers.Dense(units=50, activation='relu')(hidden_layer_q_2)\n",
        "hidden_layer_r_3 = tf.keras.layers.Dense(units=100, activation='relu')(hidden_layer_r_2)\n",
        "hidden_layer_s_3 = tf.keras.layers.Dense(units=200, activation='relu')(hidden_layer_s_2)\n",
        "hidden_layer_t_3 = tf.keras.layers.Dense(units=500, activation='relu')(hidden_layer_t_2)"
      ],
      "metadata": {
        "id": "Ev2Hcvop2M0M"
      },
      "execution_count": 5,
      "outputs": []
    },
    {
      "cell_type": "code",
      "source": [
        "# Quarta camada escondida\n",
        "\n",
        "# Modelos de 5 camadas\n",
        "hidden_layer_f_4 = tf.keras.layers.Dense(units=25, activation='relu')(hidden_layer_f_3)\n",
        "hidden_layer_g_4 = tf.keras.layers.Dense(units=50, activation='relu')(hidden_layer_g_3)\n",
        "hidden_layer_h_4 = tf.keras.layers.Dense(units=100, activation='relu')(hidden_layer_h_3)\n",
        "hidden_layer_i_4 = tf.keras.layers.Dense(units=200, activation='relu')(hidden_layer_i_3)\n",
        "hidden_layer_j_4 = tf.keras.layers.Dense(units=500, activation='relu')(hidden_layer_j_3)\n",
        "\n",
        "# Modelos de 7 camadas\n",
        "hidden_layer_k_4 = tf.keras.layers.Dense(units=25, activation='relu')(hidden_layer_k_3)\n",
        "hidden_layer_l_4 = tf.keras.layers.Dense(units=50, activation='relu')(hidden_layer_l_3)\n",
        "hidden_layer_m_4 = tf.keras.layers.Dense(units=100, activation='relu')(hidden_layer_m_3)\n",
        "hidden_layer_n_4 = tf.keras.layers.Dense(units=200, activation='relu')(hidden_layer_n_3)\n",
        "hidden_layer_o_4 = tf.keras.layers.Dense(units=500, activation='relu')(hidden_layer_o_3)\n",
        "\n",
        "# Modelos de 10 camadas\n",
        "hidden_layer_p_4 = tf.keras.layers.Dense(units=25, activation='relu')(hidden_layer_p_3)\n",
        "hidden_layer_q_4 = tf.keras.layers.Dense(units=50, activation='relu')(hidden_layer_q_3)\n",
        "hidden_layer_r_4 = tf.keras.layers.Dense(units=100, activation='relu')(hidden_layer_r_3)\n",
        "hidden_layer_s_4 = tf.keras.layers.Dense(units=200, activation='relu')(hidden_layer_s_3)\n",
        "hidden_layer_t_4 = tf.keras.layers.Dense(units=500, activation='relu')(hidden_layer_t_3)"
      ],
      "metadata": {
        "id": "NXczbD3Z2M3j"
      },
      "execution_count": 6,
      "outputs": []
    },
    {
      "cell_type": "code",
      "source": [
        "# Quinta camada escondida\n",
        "\n",
        "# Modelos de 5 camadas\n",
        "hidden_layer_f_5 = tf.keras.layers.Dense(units=25, activation='relu')(hidden_layer_f_4)\n",
        "hidden_layer_g_5 = tf.keras.layers.Dense(units=50, activation='relu')(hidden_layer_g_4)\n",
        "hidden_layer_h_5 = tf.keras.layers.Dense(units=100, activation='relu')(hidden_layer_h_4)\n",
        "hidden_layer_i_5 = tf.keras.layers.Dense(units=200, activation='relu')(hidden_layer_i_4)\n",
        "hidden_layer_j_5 = tf.keras.layers.Dense(units=500, activation='relu')(hidden_layer_j_4)\n",
        "\n",
        "# Modelos de 7 camadas\n",
        "hidden_layer_k_5 = tf.keras.layers.Dense(units=25, activation='relu')(hidden_layer_k_4)\n",
        "hidden_layer_l_5 = tf.keras.layers.Dense(units=50, activation='relu')(hidden_layer_l_4)\n",
        "hidden_layer_m_5 = tf.keras.layers.Dense(units=100, activation='relu')(hidden_layer_m_4)\n",
        "hidden_layer_n_5 = tf.keras.layers.Dense(units=200, activation='relu')(hidden_layer_n_4)\n",
        "hidden_layer_o_5 = tf.keras.layers.Dense(units=500, activation='relu')(hidden_layer_o_4)\n",
        "\n",
        "# Modelos de 10 camadas\n",
        "hidden_layer_p_5 = tf.keras.layers.Dense(units=25, activation='relu')(hidden_layer_p_4)\n",
        "hidden_layer_q_5 = tf.keras.layers.Dense(units=50, activation='relu')(hidden_layer_q_4)\n",
        "hidden_layer_r_5 = tf.keras.layers.Dense(units=100, activation='relu')(hidden_layer_r_4)\n",
        "hidden_layer_s_5 = tf.keras.layers.Dense(units=200, activation='relu')(hidden_layer_s_4)\n",
        "hidden_layer_t_5 = tf.keras.layers.Dense(units=500, activation='relu')(hidden_layer_t_4)"
      ],
      "metadata": {
        "id": "6avDFGko2M6u"
      },
      "execution_count": 7,
      "outputs": []
    },
    {
      "cell_type": "code",
      "source": [
        "# Sexta camada escondida\n",
        "\n",
        "# Modelos de 7 camadas\n",
        "hidden_layer_k_6 = tf.keras.layers.Dense(units=25, activation='relu')(hidden_layer_k_5)\n",
        "hidden_layer_l_6 = tf.keras.layers.Dense(units=50, activation='relu')(hidden_layer_l_5)\n",
        "hidden_layer_m_6 = tf.keras.layers.Dense(units=100, activation='relu')(hidden_layer_m_5)\n",
        "hidden_layer_n_6 = tf.keras.layers.Dense(units=200, activation='relu')(hidden_layer_n_5)\n",
        "hidden_layer_o_6 = tf.keras.layers.Dense(units=500, activation='relu')(hidden_layer_o_5)\n",
        "\n",
        "# Modelos de 10 camadas\n",
        "hidden_layer_p_6 = tf.keras.layers.Dense(units=25, activation='relu')(hidden_layer_p_5)\n",
        "hidden_layer_q_6 = tf.keras.layers.Dense(units=50, activation='relu')(hidden_layer_q_5)\n",
        "hidden_layer_r_6 = tf.keras.layers.Dense(units=100, activation='relu')(hidden_layer_r_5)\n",
        "hidden_layer_s_6 = tf.keras.layers.Dense(units=200, activation='relu')(hidden_layer_s_5)\n",
        "hidden_layer_t_6 = tf.keras.layers.Dense(units=500, activation='relu')(hidden_layer_t_5)"
      ],
      "metadata": {
        "id": "45Gv7g3V7bhL"
      },
      "execution_count": 8,
      "outputs": []
    },
    {
      "cell_type": "code",
      "source": [
        "# Sétima camada escondida\n",
        "\n",
        "# Modelos de 7 camadas\n",
        "hidden_layer_k_7 = tf.keras.layers.Dense(units=25, activation='relu')(hidden_layer_k_6)\n",
        "hidden_layer_l_7 = tf.keras.layers.Dense(units=50, activation='relu')(hidden_layer_l_6)\n",
        "hidden_layer_m_7 = tf.keras.layers.Dense(units=100, activation='relu')(hidden_layer_m_6)\n",
        "hidden_layer_n_7 = tf.keras.layers.Dense(units=200, activation='relu')(hidden_layer_n_6)\n",
        "hidden_layer_o_7 = tf.keras.layers.Dense(units=500, activation='relu')(hidden_layer_o_6)\n",
        "\n",
        "# Modelos de 10 camadas\n",
        "hidden_layer_p_7 = tf.keras.layers.Dense(units=25, activation='relu')(hidden_layer_p_6)\n",
        "hidden_layer_q_7 = tf.keras.layers.Dense(units=50, activation='relu')(hidden_layer_q_6)\n",
        "hidden_layer_r_7 = tf.keras.layers.Dense(units=100, activation='relu')(hidden_layer_r_6)\n",
        "hidden_layer_s_7 = tf.keras.layers.Dense(units=200, activation='relu')(hidden_layer_s_6)\n",
        "hidden_layer_t_7 = tf.keras.layers.Dense(units=500, activation='relu')(hidden_layer_t_6)"
      ],
      "metadata": {
        "id": "i2_pjoYK7bw7"
      },
      "execution_count": 9,
      "outputs": []
    },
    {
      "cell_type": "code",
      "source": [
        "# Oitava camada escondida\n",
        "\n",
        "# Modelos de 10 camadas\n",
        "hidden_layer_p_8 = tf.keras.layers.Dense(units=25, activation='relu')(hidden_layer_p_7)\n",
        "hidden_layer_q_8 = tf.keras.layers.Dense(units=50, activation='relu')(hidden_layer_q_7)\n",
        "hidden_layer_r_8 = tf.keras.layers.Dense(units=100, activation='relu')(hidden_layer_r_7)\n",
        "hidden_layer_s_8 = tf.keras.layers.Dense(units=200, activation='relu')(hidden_layer_s_7)\n",
        "hidden_layer_t_8 = tf.keras.layers.Dense(units=500, activation='relu')(hidden_layer_t_7)"
      ],
      "metadata": {
        "id": "xkp21uuA7b0k"
      },
      "execution_count": 10,
      "outputs": []
    },
    {
      "cell_type": "code",
      "source": [
        "# Nona camada escondida\n",
        "\n",
        "# Modelos de 10 camadas\n",
        "hidden_layer_p_9 = tf.keras.layers.Dense(units=25, activation='relu')(hidden_layer_p_8)\n",
        "hidden_layer_q_9 = tf.keras.layers.Dense(units=50, activation='relu')(hidden_layer_q_8)\n",
        "hidden_layer_r_9 = tf.keras.layers.Dense(units=100, activation='relu')(hidden_layer_r_8)\n",
        "hidden_layer_s_9 = tf.keras.layers.Dense(units=200, activation='relu')(hidden_layer_s_8)\n",
        "hidden_layer_t_9 = tf.keras.layers.Dense(units=500, activation='relu')(hidden_layer_t_8)"
      ],
      "metadata": {
        "id": "9K-wVU497cA2"
      },
      "execution_count": 11,
      "outputs": []
    },
    {
      "cell_type": "code",
      "source": [
        "# Décima camada escondida\n",
        "\n",
        "# Modelos de 10 camadas\n",
        "hidden_layer_p_10 = tf.keras.layers.Dense(units=25, activation='relu')(hidden_layer_p_9)\n",
        "hidden_layer_q_10 = tf.keras.layers.Dense(units=50, activation='relu')(hidden_layer_q_9)\n",
        "hidden_layer_r_10 = tf.keras.layers.Dense(units=100, activation='relu')(hidden_layer_r_9)\n",
        "hidden_layer_s_10 = tf.keras.layers.Dense(units=200, activation='relu')(hidden_layer_s_9)\n",
        "hidden_layer_t_10 = tf.keras.layers.Dense(units=500, activation='relu')(hidden_layer_t_9)"
      ],
      "metadata": {
        "id": "xfmB7Mwf7cGV"
      },
      "execution_count": 12,
      "outputs": []
    },
    {
      "cell_type": "code",
      "source": [
        "# Defininindo camada de output\n",
        "\n",
        "# Modelos de 1 camada\n",
        "outputs_a = tf.keras.layers.Dense(units=3, activation='softmax')(hidden_layer_a_1)\n",
        "outputs_b = tf.keras.layers.Dense(units=3, activation='softmax')(hidden_layer_b_1)\n",
        "outputs_c = tf.keras.layers.Dense(units=3, activation='softmax')(hidden_layer_c_1)\n",
        "outputs_d = tf.keras.layers.Dense(units=3, activation='softmax')(hidden_layer_d_1)\n",
        "outputs_e = tf.keras.layers.Dense(units=3, activation='softmax')(hidden_layer_e_1)\n",
        "\n",
        "# Modelos de 5 camadas\n",
        "outputs_f = tf.keras.layers.Dense(units=3, activation='softmax')(hidden_layer_f_5)\n",
        "outputs_g = tf.keras.layers.Dense(units=3, activation='softmax')(hidden_layer_g_5)\n",
        "outputs_h = tf.keras.layers.Dense(units=3, activation='softmax')(hidden_layer_h_5)\n",
        "outputs_i = tf.keras.layers.Dense(units=3, activation='softmax')(hidden_layer_i_5)\n",
        "outputs_j = tf.keras.layers.Dense(units=3, activation='softmax')(hidden_layer_j_5)\n",
        "\n",
        "# Modelos de 7 camadas\n",
        "outputs_k = tf.keras.layers.Dense(units=3, activation='softmax')(hidden_layer_k_7)\n",
        "outputs_l = tf.keras.layers.Dense(units=3, activation='softmax')(hidden_layer_l_7)\n",
        "outputs_m = tf.keras.layers.Dense(units=3, activation='softmax')(hidden_layer_m_7)\n",
        "outputs_n = tf.keras.layers.Dense(units=3, activation='softmax')(hidden_layer_n_7)\n",
        "outputs_o = tf.keras.layers.Dense(units=3, activation='softmax')(hidden_layer_o_7)\n",
        "\n",
        "# Modelos de 10 camadas\n",
        "outputs_p = tf.keras.layers.Dense(units=3, activation='softmax')(hidden_layer_p_10)\n",
        "outputs_q = tf.keras.layers.Dense(units=3, activation='softmax')(hidden_layer_q_10)\n",
        "outputs_r = tf.keras.layers.Dense(units=3, activation='softmax')(hidden_layer_r_10)\n",
        "outputs_s = tf.keras.layers.Dense(units=3, activation='softmax')(hidden_layer_s_10)\n",
        "outputs_t = tf.keras.layers.Dense(units=3, activation='softmax')(hidden_layer_t_10)"
      ],
      "metadata": {
        "id": "pRR2lLrl7g1d"
      },
      "execution_count": 13,
      "outputs": []
    },
    {
      "cell_type": "code",
      "source": [
        "# Defnindo os modelos\n",
        "\n",
        "# Modelos de 1 camada\n",
        "model_a = tf.keras.Model(inputs=inputs_a, outputs=outputs_a)\n",
        "model_b = tf.keras.Model(inputs=inputs_b, outputs=outputs_b)\n",
        "model_c = tf.keras.Model(inputs=inputs_c, outputs=outputs_c)\n",
        "model_d = tf.keras.Model(inputs=inputs_d, outputs=outputs_d)\n",
        "model_e = tf.keras.Model(inputs=inputs_e, outputs=outputs_e)\n",
        "\n",
        "# Modelos de 5 camadas\n",
        "model_f = tf.keras.Model(inputs=inputs_f, outputs=outputs_f)\n",
        "model_g = tf.keras.Model(inputs=inputs_g, outputs=outputs_g)\n",
        "model_h = tf.keras.Model(inputs=inputs_h, outputs=outputs_h)\n",
        "model_i = tf.keras.Model(inputs=inputs_i, outputs=outputs_i)\n",
        "model_j = tf.keras.Model(inputs=inputs_j, outputs=outputs_j)\n",
        "\n",
        "# Modelos de 7 camadas\n",
        "model_k = tf.keras.Model(inputs=inputs_k, outputs=outputs_k)\n",
        "model_l = tf.keras.Model(inputs=inputs_l, outputs=outputs_l)\n",
        "model_m = tf.keras.Model(inputs=inputs_m, outputs=outputs_m)\n",
        "model_n = tf.keras.Model(inputs=inputs_n, outputs=outputs_n)\n",
        "model_o = tf.keras.Model(inputs=inputs_o, outputs=outputs_o)\n",
        "\n",
        "# Modelos de 10 camadas\n",
        "model_p = tf.keras.Model(inputs=inputs_p, outputs=outputs_p)\n",
        "model_q = tf.keras.Model(inputs=inputs_q, outputs=outputs_q)\n",
        "model_r = tf.keras.Model(inputs=inputs_r, outputs=outputs_r)\n",
        "model_s = tf.keras.Model(inputs=inputs_s, outputs=outputs_s)\n",
        "model_t = tf.keras.Model(inputs=inputs_t, outputs=outputs_t)"
      ],
      "metadata": {
        "id": "QIRk6qAR7g4V"
      },
      "execution_count": 14,
      "outputs": []
    },
    {
      "cell_type": "code",
      "source": [
        "# Compilando modelos\n",
        "\n",
        "# Modelos de 1 camada\n",
        "model_a.compile(optimizer='adam', loss='categorical_crossentropy', metrics=['accuracy'])\n",
        "model_b.compile(optimizer='adam', loss='categorical_crossentropy', metrics=['accuracy'])\n",
        "model_c.compile(optimizer='adam', loss='categorical_crossentropy', metrics=['accuracy'])\n",
        "model_d.compile(optimizer='adam', loss='categorical_crossentropy', metrics=['accuracy'])\n",
        "model_e.compile(optimizer='adam', loss='categorical_crossentropy', metrics=['accuracy'])\n",
        "\n",
        "# Modelos de 5 camadas\n",
        "model_f.compile(optimizer='adam', loss='categorical_crossentropy', metrics=['accuracy'])\n",
        "model_g.compile(optimizer='adam', loss='categorical_crossentropy', metrics=['accuracy'])\n",
        "model_h.compile(optimizer='adam', loss='categorical_crossentropy', metrics=['accuracy'])\n",
        "model_i.compile(optimizer='adam', loss='categorical_crossentropy', metrics=['accuracy'])\n",
        "model_j.compile(optimizer='adam', loss='categorical_crossentropy', metrics=['accuracy'])\n",
        "\n",
        "# Modelos de 7 camadas\n",
        "model_k.compile(optimizer='adam', loss='categorical_crossentropy', metrics=['accuracy'])\n",
        "model_l.compile(optimizer='adam', loss='categorical_crossentropy', metrics=['accuracy'])\n",
        "model_m.compile(optimizer='adam', loss='categorical_crossentropy', metrics=['accuracy'])\n",
        "model_n.compile(optimizer='adam', loss='categorical_crossentropy', metrics=['accuracy'])\n",
        "model_o.compile(optimizer='adam', loss='categorical_crossentropy', metrics=['accuracy'])\n",
        "\n",
        "# Modelos de 10 camadas\n",
        "model_p.compile(optimizer='adam', loss='categorical_crossentropy', metrics=['accuracy'])\n",
        "model_q.compile(optimizer='adam', loss='categorical_crossentropy', metrics=['accuracy'])\n",
        "model_r.compile(optimizer='adam', loss='categorical_crossentropy', metrics=['accuracy'])\n",
        "model_s.compile(optimizer='adam', loss='categorical_crossentropy', metrics=['accuracy'])\n",
        "model_t.compile(optimizer='adam', loss='categorical_crossentropy', metrics=['accuracy'])"
      ],
      "metadata": {
        "id": "IVi7WMTm7g67"
      },
      "execution_count": 15,
      "outputs": []
    },
    {
      "cell_type": "code",
      "source": [
        "import pandas as pd\n",
        "\n",
        "df = pd.read_csv('balance-scale.data')"
      ],
      "metadata": {
        "id": "h52V9kCfEvCh"
      },
      "execution_count": 16,
      "outputs": []
    },
    {
      "cell_type": "code",
      "source": [
        "x = df.iloc[:, 1:]\n",
        "y = df.iloc[:, 0]"
      ],
      "metadata": {
        "id": "SrHtFzrcEvFX"
      },
      "execution_count": 17,
      "outputs": []
    },
    {
      "cell_type": "code",
      "source": [
        "from sklearn.preprocessing import LabelEncoder\n",
        "\n",
        "encoder = LabelEncoder()\n",
        "y = encoder.fit_transform(y)"
      ],
      "metadata": {
        "id": "f2SkVDWcGnyK"
      },
      "execution_count": 18,
      "outputs": []
    },
    {
      "cell_type": "code",
      "source": [
        "from keras.utils import to_categorical\n",
        "\n",
        "y = to_categorical(y)"
      ],
      "metadata": {
        "id": "bUeLjfDoEvNb"
      },
      "execution_count": 19,
      "outputs": []
    },
    {
      "cell_type": "code",
      "source": [
        "from sklearn.model_selection import train_test_split\n",
        "\n",
        "X_train, X_test, y_train, y_test = train_test_split(x, y, test_size=0.2)"
      ],
      "metadata": {
        "id": "P_uXv5R7EvRQ"
      },
      "execution_count": 20,
      "outputs": []
    },
    {
      "cell_type": "code",
      "source": [
        "model_a.fit(X_train, y_train, epochs=10, batch_size=32)"
      ],
      "metadata": {
        "colab": {
          "base_uri": "https://localhost:8080/"
        },
        "id": "nDFg5PbdFHnM",
        "outputId": "f455a069-bd49-4ace-81f0-d728218147d1"
      },
      "execution_count": 21,
      "outputs": [
        {
          "output_type": "stream",
          "name": "stdout",
          "text": [
            "Epoch 1/10\n",
            "16/16 [==============================] - 7s 4ms/step - loss: 0.9773 - accuracy: 0.4749\n",
            "Epoch 2/10\n",
            "16/16 [==============================] - 0s 4ms/step - loss: 0.8781 - accuracy: 0.6092\n",
            "Epoch 3/10\n",
            "16/16 [==============================] - 0s 4ms/step - loss: 0.8182 - accuracy: 0.7234\n",
            "Epoch 4/10\n",
            "16/16 [==============================] - 0s 3ms/step - loss: 0.7669 - accuracy: 0.7956\n",
            "Epoch 5/10\n",
            "16/16 [==============================] - 0s 3ms/step - loss: 0.7194 - accuracy: 0.8417\n",
            "Epoch 6/10\n",
            "16/16 [==============================] - 0s 3ms/step - loss: 0.6728 - accuracy: 0.8617\n",
            "Epoch 7/10\n",
            "16/16 [==============================] - 0s 3ms/step - loss: 0.6311 - accuracy: 0.8697\n",
            "Epoch 8/10\n",
            "16/16 [==============================] - 0s 3ms/step - loss: 0.5930 - accuracy: 0.8818\n",
            "Epoch 9/10\n",
            "16/16 [==============================] - 0s 3ms/step - loss: 0.5588 - accuracy: 0.8798\n",
            "Epoch 10/10\n",
            "16/16 [==============================] - 0s 4ms/step - loss: 0.5279 - accuracy: 0.8758\n"
          ]
        },
        {
          "output_type": "execute_result",
          "data": {
            "text/plain": [
              "<keras.callbacks.History at 0x7f24b47c8b50>"
            ]
          },
          "metadata": {},
          "execution_count": 21
        }
      ]
    },
    {
      "cell_type": "code",
      "source": [
        "model_b.fit(X_train, y_train, epochs=10, batch_size=32)"
      ],
      "metadata": {
        "colab": {
          "base_uri": "https://localhost:8080/"
        },
        "id": "-VkF3T2hFHqy",
        "outputId": "61fd1da8-7d9a-4641-b365-e5b042309fc4"
      },
      "execution_count": 22,
      "outputs": [
        {
          "output_type": "stream",
          "name": "stdout",
          "text": [
            "Epoch 1/10\n",
            "16/16 [==============================] - 1s 3ms/step - loss: 0.8390 - accuracy: 0.6693\n",
            "Epoch 2/10\n",
            "16/16 [==============================] - 0s 3ms/step - loss: 0.6576 - accuracy: 0.8557\n",
            "Epoch 3/10\n",
            "16/16 [==============================] - 0s 3ms/step - loss: 0.5872 - accuracy: 0.8677\n",
            "Epoch 4/10\n",
            "16/16 [==============================] - 0s 3ms/step - loss: 0.5263 - accuracy: 0.8657\n",
            "Epoch 5/10\n",
            "16/16 [==============================] - 0s 3ms/step - loss: 0.4781 - accuracy: 0.8637\n",
            "Epoch 6/10\n",
            "16/16 [==============================] - 0s 3ms/step - loss: 0.4414 - accuracy: 0.8657\n",
            "Epoch 7/10\n",
            "16/16 [==============================] - 0s 3ms/step - loss: 0.4116 - accuracy: 0.8758\n",
            "Epoch 8/10\n",
            "16/16 [==============================] - 0s 3ms/step - loss: 0.3896 - accuracy: 0.8898\n",
            "Epoch 9/10\n",
            "16/16 [==============================] - 0s 4ms/step - loss: 0.3740 - accuracy: 0.8778\n",
            "Epoch 10/10\n",
            "16/16 [==============================] - 0s 3ms/step - loss: 0.3617 - accuracy: 0.8858\n"
          ]
        },
        {
          "output_type": "execute_result",
          "data": {
            "text/plain": [
              "<keras.callbacks.History at 0x7f24b464a3e0>"
            ]
          },
          "metadata": {},
          "execution_count": 22
        }
      ]
    },
    {
      "cell_type": "code",
      "source": [
        "model_c.fit(X_train, y_train, epochs=10, batch_size=32)"
      ],
      "metadata": {
        "colab": {
          "base_uri": "https://localhost:8080/"
        },
        "id": "8d4mvsBGFHud",
        "outputId": "8af3ebc8-f01d-45f7-df6a-36bb32451358"
      },
      "execution_count": 23,
      "outputs": [
        {
          "output_type": "stream",
          "name": "stdout",
          "text": [
            "Epoch 1/10\n",
            "16/16 [==============================] - 1s 5ms/step - loss: 1.0818 - accuracy: 0.3647\n",
            "Epoch 2/10\n",
            "16/16 [==============================] - 0s 4ms/step - loss: 0.8103 - accuracy: 0.6854\n",
            "Epoch 3/10\n",
            "16/16 [==============================] - 0s 4ms/step - loss: 0.6771 - accuracy: 0.8176\n",
            "Epoch 4/10\n",
            "16/16 [==============================] - 0s 4ms/step - loss: 0.5811 - accuracy: 0.8637\n",
            "Epoch 5/10\n",
            "16/16 [==============================] - 0s 4ms/step - loss: 0.5152 - accuracy: 0.8758\n",
            "Epoch 6/10\n",
            "16/16 [==============================] - 0s 4ms/step - loss: 0.4670 - accuracy: 0.8737\n",
            "Epoch 7/10\n",
            "16/16 [==============================] - 0s 4ms/step - loss: 0.4339 - accuracy: 0.8778\n",
            "Epoch 8/10\n",
            "16/16 [==============================] - 0s 4ms/step - loss: 0.4050 - accuracy: 0.8577\n",
            "Epoch 9/10\n",
            "16/16 [==============================] - 0s 4ms/step - loss: 0.3849 - accuracy: 0.8717\n",
            "Epoch 10/10\n",
            "16/16 [==============================] - 0s 4ms/step - loss: 0.3662 - accuracy: 0.8758\n"
          ]
        },
        {
          "output_type": "execute_result",
          "data": {
            "text/plain": [
              "<keras.callbacks.History at 0x7f24b4546770>"
            ]
          },
          "metadata": {},
          "execution_count": 23
        }
      ]
    },
    {
      "cell_type": "code",
      "source": [
        "model_d.fit(X_train, y_train, epochs=10, batch_size=32)"
      ],
      "metadata": {
        "colab": {
          "base_uri": "https://localhost:8080/"
        },
        "id": "mpkNvSLRFH__",
        "outputId": "4d94d607-1dd2-4ac1-95f8-947eafd6ea95"
      },
      "execution_count": 24,
      "outputs": [
        {
          "output_type": "stream",
          "name": "stdout",
          "text": [
            "Epoch 1/10\n",
            "16/16 [==============================] - 1s 4ms/step - loss: 0.8527 - accuracy: 0.6373\n",
            "Epoch 2/10\n",
            "16/16 [==============================] - 0s 4ms/step - loss: 0.6759 - accuracy: 0.8697\n",
            "Epoch 3/10\n",
            "16/16 [==============================] - 0s 3ms/step - loss: 0.5675 - accuracy: 0.8838\n",
            "Epoch 4/10\n",
            "16/16 [==============================] - 0s 3ms/step - loss: 0.4914 - accuracy: 0.8898\n",
            "Epoch 5/10\n",
            "16/16 [==============================] - 0s 3ms/step - loss: 0.4428 - accuracy: 0.8858\n",
            "Epoch 6/10\n",
            "16/16 [==============================] - 0s 3ms/step - loss: 0.3996 - accuracy: 0.9018\n",
            "Epoch 7/10\n",
            "16/16 [==============================] - 0s 3ms/step - loss: 0.3724 - accuracy: 0.8958\n",
            "Epoch 8/10\n",
            "16/16 [==============================] - 0s 3ms/step - loss: 0.3487 - accuracy: 0.8998\n",
            "Epoch 9/10\n",
            "16/16 [==============================] - 0s 4ms/step - loss: 0.3301 - accuracy: 0.9058\n",
            "Epoch 10/10\n",
            "16/16 [==============================] - 0s 3ms/step - loss: 0.3182 - accuracy: 0.8958\n"
          ]
        },
        {
          "output_type": "execute_result",
          "data": {
            "text/plain": [
              "<keras.callbacks.History at 0x7f24b4e759f0>"
            ]
          },
          "metadata": {},
          "execution_count": 24
        }
      ]
    },
    {
      "cell_type": "code",
      "source": [
        "model_e.fit(X_train, y_train, epochs=10, batch_size=32)"
      ],
      "metadata": {
        "colab": {
          "base_uri": "https://localhost:8080/"
        },
        "id": "RlgNzMSeFIHl",
        "outputId": "29a68dec-bdd4-452b-a48d-ebc8e4164eaa"
      },
      "execution_count": 25,
      "outputs": [
        {
          "output_type": "stream",
          "name": "stdout",
          "text": [
            "Epoch 1/10\n",
            "16/16 [==============================] - 1s 3ms/step - loss: 0.9586 - accuracy: 0.5331 \n",
            "Epoch 2/10\n",
            "16/16 [==============================] - 0s 3ms/step - loss: 0.6217 - accuracy: 0.8597\n",
            "Epoch 3/10\n",
            "16/16 [==============================] - 0s 3ms/step - loss: 0.4840 - accuracy: 0.8798\n",
            "Epoch 4/10\n",
            "16/16 [==============================] - 0s 4ms/step - loss: 0.4102 - accuracy: 0.8778\n",
            "Epoch 5/10\n",
            "16/16 [==============================] - 0s 3ms/step - loss: 0.3678 - accuracy: 0.8938\n",
            "Epoch 6/10\n",
            "16/16 [==============================] - 0s 3ms/step - loss: 0.3409 - accuracy: 0.8938\n",
            "Epoch 7/10\n",
            "16/16 [==============================] - 0s 3ms/step - loss: 0.3195 - accuracy: 0.8958\n",
            "Epoch 8/10\n",
            "16/16 [==============================] - 0s 3ms/step - loss: 0.3093 - accuracy: 0.8938\n",
            "Epoch 9/10\n",
            "16/16 [==============================] - 0s 4ms/step - loss: 0.2965 - accuracy: 0.8938\n",
            "Epoch 10/10\n",
            "16/16 [==============================] - 0s 3ms/step - loss: 0.2834 - accuracy: 0.8958\n"
          ]
        },
        {
          "output_type": "execute_result",
          "data": {
            "text/plain": [
              "<keras.callbacks.History at 0x7f24b4d71750>"
            ]
          },
          "metadata": {},
          "execution_count": 25
        }
      ]
    },
    {
      "cell_type": "code",
      "source": [
        "model_f.fit(X_train, y_train, epochs=10, batch_size=32)"
      ],
      "metadata": {
        "colab": {
          "base_uri": "https://localhost:8080/"
        },
        "id": "KwzoffKoFIPp",
        "outputId": "4b9dccf8-f14c-464b-9b53-149ceb7303ea"
      },
      "execution_count": 26,
      "outputs": [
        {
          "output_type": "stream",
          "name": "stdout",
          "text": [
            "Epoch 1/10\n",
            "16/16 [==============================] - 2s 4ms/step - loss: 0.9619 - accuracy: 0.5030\n",
            "Epoch 2/10\n",
            "16/16 [==============================] - 0s 4ms/step - loss: 0.8141 - accuracy: 0.8076\n",
            "Epoch 3/10\n",
            "16/16 [==============================] - 0s 4ms/step - loss: 0.6997 - accuracy: 0.8557\n",
            "Epoch 4/10\n",
            "16/16 [==============================] - 0s 4ms/step - loss: 0.5675 - accuracy: 0.8717\n",
            "Epoch 5/10\n",
            "16/16 [==============================] - 0s 5ms/step - loss: 0.4409 - accuracy: 0.8818\n",
            "Epoch 6/10\n",
            "16/16 [==============================] - 0s 4ms/step - loss: 0.3548 - accuracy: 0.8798\n",
            "Epoch 7/10\n",
            "16/16 [==============================] - 0s 4ms/step - loss: 0.2958 - accuracy: 0.8898\n",
            "Epoch 8/10\n",
            "16/16 [==============================] - 0s 4ms/step - loss: 0.2623 - accuracy: 0.9018\n",
            "Epoch 9/10\n",
            "16/16 [==============================] - 0s 4ms/step - loss: 0.2374 - accuracy: 0.8998\n",
            "Epoch 10/10\n",
            "16/16 [==============================] - 0s 5ms/step - loss: 0.2219 - accuracy: 0.9038\n"
          ]
        },
        {
          "output_type": "execute_result",
          "data": {
            "text/plain": [
              "<keras.callbacks.History at 0x7f24b4c81240>"
            ]
          },
          "metadata": {},
          "execution_count": 26
        }
      ]
    },
    {
      "cell_type": "code",
      "source": [
        "model_g.fit(X_train, y_train, epochs=10, batch_size=32)"
      ],
      "metadata": {
        "colab": {
          "base_uri": "https://localhost:8080/"
        },
        "id": "fib1eOLpFIX1",
        "outputId": "8199a6e8-034f-4de9-f04d-22f07d3aaec5"
      },
      "execution_count": 27,
      "outputs": [
        {
          "output_type": "stream",
          "name": "stdout",
          "text": [
            "Epoch 1/10\n",
            "16/16 [==============================] - 2s 4ms/step - loss: 0.8328 - accuracy: 0.7555\n",
            "Epoch 2/10\n",
            "16/16 [==============================] - 0s 4ms/step - loss: 0.5545 - accuracy: 0.8657\n",
            "Epoch 3/10\n",
            "16/16 [==============================] - 0s 5ms/step - loss: 0.4100 - accuracy: 0.8778\n",
            "Epoch 4/10\n",
            "16/16 [==============================] - 0s 4ms/step - loss: 0.3098 - accuracy: 0.8818\n",
            "Epoch 5/10\n",
            "16/16 [==============================] - 0s 4ms/step - loss: 0.2605 - accuracy: 0.8878\n",
            "Epoch 6/10\n",
            "16/16 [==============================] - 0s 4ms/step - loss: 0.2311 - accuracy: 0.9078\n",
            "Epoch 7/10\n",
            "16/16 [==============================] - 0s 4ms/step - loss: 0.2029 - accuracy: 0.9058\n",
            "Epoch 8/10\n",
            "16/16 [==============================] - 0s 4ms/step - loss: 0.1773 - accuracy: 0.9499\n",
            "Epoch 9/10\n",
            "16/16 [==============================] - 0s 4ms/step - loss: 0.1556 - accuracy: 0.9439\n",
            "Epoch 10/10\n",
            "16/16 [==============================] - 0s 4ms/step - loss: 0.1434 - accuracy: 0.9459\n"
          ]
        },
        {
          "output_type": "execute_result",
          "data": {
            "text/plain": [
              "<keras.callbacks.History at 0x7f24b907e500>"
            ]
          },
          "metadata": {},
          "execution_count": 27
        }
      ]
    },
    {
      "cell_type": "code",
      "source": [
        "model_h.fit(X_train, y_train, epochs=10, batch_size=32)"
      ],
      "metadata": {
        "colab": {
          "base_uri": "https://localhost:8080/"
        },
        "id": "hYWKJsShFIfv",
        "outputId": "5b71bfda-ccde-47fa-d6fb-8aba30159659"
      },
      "execution_count": 28,
      "outputs": [
        {
          "output_type": "stream",
          "name": "stdout",
          "text": [
            "Epoch 1/10\n",
            "16/16 [==============================] - 3s 5ms/step - loss: 0.8154 - accuracy: 0.7996\n",
            "Epoch 2/10\n",
            "16/16 [==============================] - 0s 5ms/step - loss: 0.4220 - accuracy: 0.8818\n",
            "Epoch 3/10\n",
            "16/16 [==============================] - 0s 4ms/step - loss: 0.2741 - accuracy: 0.8998\n",
            "Epoch 4/10\n",
            "16/16 [==============================] - 0s 4ms/step - loss: 0.2349 - accuracy: 0.8978\n",
            "Epoch 5/10\n",
            "16/16 [==============================] - 0s 4ms/step - loss: 0.1920 - accuracy: 0.9158\n",
            "Epoch 6/10\n",
            "16/16 [==============================] - 0s 4ms/step - loss: 0.1695 - accuracy: 0.9158\n",
            "Epoch 7/10\n",
            "16/16 [==============================] - 0s 4ms/step - loss: 0.1321 - accuracy: 0.9619\n",
            "Epoch 8/10\n",
            "16/16 [==============================] - 0s 5ms/step - loss: 0.1186 - accuracy: 0.9479\n",
            "Epoch 9/10\n",
            "16/16 [==============================] - 0s 4ms/step - loss: 0.0852 - accuracy: 0.9840\n",
            "Epoch 10/10\n",
            "16/16 [==============================] - 0s 4ms/step - loss: 0.0875 - accuracy: 0.9639\n"
          ]
        },
        {
          "output_type": "execute_result",
          "data": {
            "text/plain": [
              "<keras.callbacks.History at 0x7f24b499f280>"
            ]
          },
          "metadata": {},
          "execution_count": 28
        }
      ]
    },
    {
      "cell_type": "code",
      "source": [
        "model_i.fit(X_train, y_train, epochs=10, batch_size=32)"
      ],
      "metadata": {
        "colab": {
          "base_uri": "https://localhost:8080/"
        },
        "id": "XFFYlxRjFIoh",
        "outputId": "9caf39aa-d548-443a-a7ed-71435317e520"
      },
      "execution_count": 29,
      "outputs": [
        {
          "output_type": "stream",
          "name": "stdout",
          "text": [
            "Epoch 1/10\n",
            "16/16 [==============================] - 2s 4ms/step - loss: 0.7076 - accuracy: 0.7395\n",
            "Epoch 2/10\n",
            "16/16 [==============================] - 0s 4ms/step - loss: 0.3442 - accuracy: 0.8737\n",
            "Epoch 3/10\n",
            "16/16 [==============================] - 0s 4ms/step - loss: 0.2331 - accuracy: 0.9018\n",
            "Epoch 4/10\n",
            "16/16 [==============================] - 0s 5ms/step - loss: 0.1696 - accuracy: 0.9459\n",
            "Epoch 5/10\n",
            "16/16 [==============================] - 0s 4ms/step - loss: 0.1307 - accuracy: 0.9659\n",
            "Epoch 6/10\n",
            "16/16 [==============================] - 0s 4ms/step - loss: 0.1036 - accuracy: 0.9679\n",
            "Epoch 7/10\n",
            "16/16 [==============================] - 0s 4ms/step - loss: 0.1086 - accuracy: 0.9519\n",
            "Epoch 8/10\n",
            "16/16 [==============================] - 0s 4ms/step - loss: 0.1064 - accuracy: 0.9599\n",
            "Epoch 9/10\n",
            "16/16 [==============================] - 0s 5ms/step - loss: 0.1047 - accuracy: 0.9559\n",
            "Epoch 10/10\n",
            "16/16 [==============================] - 0s 3ms/step - loss: 0.1224 - accuracy: 0.9539\n"
          ]
        },
        {
          "output_type": "execute_result",
          "data": {
            "text/plain": [
              "<keras.callbacks.History at 0x7f24b4299000>"
            ]
          },
          "metadata": {},
          "execution_count": 29
        }
      ]
    },
    {
      "cell_type": "code",
      "source": [
        "model_j.fit(X_train, y_train, epochs=10, batch_size=32)\n"
      ],
      "metadata": {
        "colab": {
          "base_uri": "https://localhost:8080/"
        },
        "id": "vAoHR-VFFIxf",
        "outputId": "c8c3a7c0-220a-47fb-b7a3-b256536a4751"
      },
      "execution_count": 30,
      "outputs": [
        {
          "output_type": "stream",
          "name": "stdout",
          "text": [
            "Epoch 1/10\n",
            "16/16 [==============================] - 2s 5ms/step - loss: 0.5691 - accuracy: 0.7956\n",
            "Epoch 2/10\n",
            "16/16 [==============================] - 0s 4ms/step - loss: 0.2367 - accuracy: 0.8958\n",
            "Epoch 3/10\n",
            "16/16 [==============================] - 0s 4ms/step - loss: 0.1449 - accuracy: 0.9619\n",
            "Epoch 4/10\n",
            "16/16 [==============================] - 0s 4ms/step - loss: 0.2528 - accuracy: 0.8878\n",
            "Epoch 5/10\n",
            "16/16 [==============================] - 0s 4ms/step - loss: 0.1763 - accuracy: 0.9198\n",
            "Epoch 6/10\n",
            "16/16 [==============================] - 0s 4ms/step - loss: 0.1466 - accuracy: 0.9238\n",
            "Epoch 7/10\n",
            "16/16 [==============================] - 0s 4ms/step - loss: 0.0922 - accuracy: 0.9659\n",
            "Epoch 8/10\n",
            "16/16 [==============================] - 0s 5ms/step - loss: 0.0967 - accuracy: 0.9579\n",
            "Epoch 9/10\n",
            "16/16 [==============================] - 0s 4ms/step - loss: 0.0829 - accuracy: 0.9679\n",
            "Epoch 10/10\n",
            "16/16 [==============================] - 0s 4ms/step - loss: 0.0658 - accuracy: 0.9780\n"
          ]
        },
        {
          "output_type": "execute_result",
          "data": {
            "text/plain": [
              "<keras.callbacks.History at 0x7f24b40747c0>"
            ]
          },
          "metadata": {},
          "execution_count": 30
        }
      ]
    },
    {
      "cell_type": "code",
      "source": [
        "model_k.fit(X_train, y_train, epochs=10, batch_size=32)"
      ],
      "metadata": {
        "colab": {
          "base_uri": "https://localhost:8080/"
        },
        "id": "RN2zCE_eR3es",
        "outputId": "ef1c0b0b-1596-4266-9cd2-17d86a7f6895"
      },
      "execution_count": 31,
      "outputs": [
        {
          "output_type": "stream",
          "name": "stdout",
          "text": [
            "Epoch 1/10\n",
            "16/16 [==============================] - 3s 5ms/step - loss: 0.9518 - accuracy: 0.4629\n",
            "Epoch 2/10\n",
            "16/16 [==============================] - 0s 6ms/step - loss: 0.8168 - accuracy: 0.7435\n",
            "Epoch 3/10\n",
            "16/16 [==============================] - 0s 6ms/step - loss: 0.6689 - accuracy: 0.8497\n",
            "Epoch 4/10\n",
            "16/16 [==============================] - 0s 6ms/step - loss: 0.5007 - accuracy: 0.8677\n",
            "Epoch 5/10\n",
            "16/16 [==============================] - 0s 6ms/step - loss: 0.3614 - accuracy: 0.8838\n",
            "Epoch 6/10\n",
            "16/16 [==============================] - 0s 7ms/step - loss: 0.2985 - accuracy: 0.8858\n",
            "Epoch 7/10\n",
            "16/16 [==============================] - 0s 6ms/step - loss: 0.2702 - accuracy: 0.8778\n",
            "Epoch 8/10\n",
            "16/16 [==============================] - 0s 8ms/step - loss: 0.2477 - accuracy: 0.8958\n",
            "Epoch 9/10\n",
            "16/16 [==============================] - 0s 7ms/step - loss: 0.2492 - accuracy: 0.8798\n",
            "Epoch 10/10\n",
            "16/16 [==============================] - 0s 7ms/step - loss: 0.2478 - accuracy: 0.8838\n"
          ]
        },
        {
          "output_type": "execute_result",
          "data": {
            "text/plain": [
              "<keras.callbacks.History at 0x7f24aa618be0>"
            ]
          },
          "metadata": {},
          "execution_count": 31
        }
      ]
    },
    {
      "cell_type": "code",
      "source": [
        "model_l.fit(X_train, y_train, epochs=10, batch_size=32)"
      ],
      "metadata": {
        "colab": {
          "base_uri": "https://localhost:8080/"
        },
        "id": "iyKKrzn_R3X2",
        "outputId": "1f529755-f9d7-4bfe-afcb-b23edfa603bc"
      },
      "execution_count": 32,
      "outputs": [
        {
          "output_type": "stream",
          "name": "stdout",
          "text": [
            "Epoch 1/10\n",
            "16/16 [==============================] - 3s 5ms/step - loss: 0.9183 - accuracy: 0.6232\n",
            "Epoch 2/10\n",
            "16/16 [==============================] - 0s 5ms/step - loss: 0.7244 - accuracy: 0.8597\n",
            "Epoch 3/10\n",
            "16/16 [==============================] - 0s 5ms/step - loss: 0.4295 - accuracy: 0.8858\n",
            "Epoch 4/10\n",
            "16/16 [==============================] - 0s 4ms/step - loss: 0.2807 - accuracy: 0.8978\n",
            "Epoch 5/10\n",
            "16/16 [==============================] - 0s 5ms/step - loss: 0.2128 - accuracy: 0.9058\n",
            "Epoch 6/10\n",
            "16/16 [==============================] - 0s 5ms/step - loss: 0.1590 - accuracy: 0.9559\n",
            "Epoch 7/10\n",
            "16/16 [==============================] - 0s 5ms/step - loss: 0.1268 - accuracy: 0.9679\n",
            "Epoch 8/10\n",
            "16/16 [==============================] - 0s 4ms/step - loss: 0.1640 - accuracy: 0.9279\n",
            "Epoch 9/10\n",
            "16/16 [==============================] - 0s 4ms/step - loss: 0.1152 - accuracy: 0.9559\n",
            "Epoch 10/10\n",
            "16/16 [==============================] - 0s 5ms/step - loss: 0.1405 - accuracy: 0.9238\n"
          ]
        },
        {
          "output_type": "execute_result",
          "data": {
            "text/plain": [
              "<keras.callbacks.History at 0x7f24aa478400>"
            ]
          },
          "metadata": {},
          "execution_count": 32
        }
      ]
    },
    {
      "cell_type": "code",
      "source": [
        "model_m.fit(X_train, y_train, epochs=10, batch_size=32)"
      ],
      "metadata": {
        "colab": {
          "base_uri": "https://localhost:8080/"
        },
        "id": "00ZmyThoR3P2",
        "outputId": "d1b00389-1de1-4b94-83e9-1da6f663559c"
      },
      "execution_count": 33,
      "outputs": [
        {
          "output_type": "stream",
          "name": "stdout",
          "text": [
            "Epoch 1/10\n",
            "16/16 [==============================] - 3s 9ms/step - loss: 0.7495 - accuracy: 0.7715\n",
            "Epoch 2/10\n",
            "16/16 [==============================] - 0s 8ms/step - loss: 0.3315 - accuracy: 0.8717\n",
            "Epoch 3/10\n",
            "16/16 [==============================] - 0s 8ms/step - loss: 0.2106 - accuracy: 0.9078\n",
            "Epoch 4/10\n",
            "16/16 [==============================] - 0s 8ms/step - loss: 0.2159 - accuracy: 0.9098\n",
            "Epoch 5/10\n",
            "16/16 [==============================] - 0s 8ms/step - loss: 0.1682 - accuracy: 0.9379\n",
            "Epoch 6/10\n",
            "16/16 [==============================] - 0s 8ms/step - loss: 0.1213 - accuracy: 0.9539\n",
            "Epoch 7/10\n",
            "16/16 [==============================] - 0s 10ms/step - loss: 0.0946 - accuracy: 0.9739\n",
            "Epoch 8/10\n",
            "16/16 [==============================] - 0s 9ms/step - loss: 0.0942 - accuracy: 0.9659\n",
            "Epoch 9/10\n",
            "16/16 [==============================] - 0s 9ms/step - loss: 0.0683 - accuracy: 0.9780\n",
            "Epoch 10/10\n",
            "16/16 [==============================] - 0s 8ms/step - loss: 0.1050 - accuracy: 0.9599\n"
          ]
        },
        {
          "output_type": "execute_result",
          "data": {
            "text/plain": [
              "<keras.callbacks.History at 0x7f24ab6b1660>"
            ]
          },
          "metadata": {},
          "execution_count": 33
        }
      ]
    },
    {
      "cell_type": "code",
      "source": [
        "model_n.fit(X_train, y_train, epochs=10, batch_size=32)"
      ],
      "metadata": {
        "colab": {
          "base_uri": "https://localhost:8080/"
        },
        "id": "_2-Gc6n4R3H8",
        "outputId": "317e5638-be1c-4a18-f202-95fd5868dc94"
      },
      "execution_count": 34,
      "outputs": [
        {
          "output_type": "stream",
          "name": "stdout",
          "text": [
            "Epoch 1/10\n",
            "16/16 [==============================] - 5s 5ms/step - loss: 0.6778 - accuracy: 0.7675\n",
            "Epoch 2/10\n",
            "16/16 [==============================] - 0s 4ms/step - loss: 0.2722 - accuracy: 0.8958\n",
            "Epoch 3/10\n",
            "16/16 [==============================] - 0s 4ms/step - loss: 0.2474 - accuracy: 0.8858\n",
            "Epoch 4/10\n",
            "16/16 [==============================] - 0s 5ms/step - loss: 0.2116 - accuracy: 0.9038\n",
            "Epoch 5/10\n",
            "16/16 [==============================] - 0s 4ms/step - loss: 0.1395 - accuracy: 0.9279\n",
            "Epoch 6/10\n",
            "16/16 [==============================] - 0s 5ms/step - loss: 0.0916 - accuracy: 0.9699\n",
            "Epoch 7/10\n",
            "16/16 [==============================] - 0s 4ms/step - loss: 0.0857 - accuracy: 0.9639\n",
            "Epoch 8/10\n",
            "16/16 [==============================] - 0s 4ms/step - loss: 0.1365 - accuracy: 0.9459\n",
            "Epoch 9/10\n",
            "16/16 [==============================] - 0s 5ms/step - loss: 0.1124 - accuracy: 0.9579\n",
            "Epoch 10/10\n",
            "16/16 [==============================] - 0s 4ms/step - loss: 0.0656 - accuracy: 0.9739\n"
          ]
        },
        {
          "output_type": "execute_result",
          "data": {
            "text/plain": [
              "<keras.callbacks.History at 0x7f24ab3250f0>"
            ]
          },
          "metadata": {},
          "execution_count": 34
        }
      ]
    },
    {
      "cell_type": "code",
      "source": [
        "model_o.fit(X_train, y_train, epochs=10, batch_size=32)"
      ],
      "metadata": {
        "colab": {
          "base_uri": "https://localhost:8080/"
        },
        "id": "UYwshXE0R3AY",
        "outputId": "1bffdbe4-f347-4d8f-d3a7-b95fed5f18e4"
      },
      "execution_count": 35,
      "outputs": [
        {
          "output_type": "stream",
          "name": "stdout",
          "text": [
            "Epoch 1/10\n",
            "16/16 [==============================] - 3s 5ms/step - loss: 0.6574 - accuracy: 0.6874\n",
            "Epoch 2/10\n",
            "16/16 [==============================] - 0s 5ms/step - loss: 0.4359 - accuracy: 0.8417\n",
            "Epoch 3/10\n",
            "16/16 [==============================] - 0s 5ms/step - loss: 0.2619 - accuracy: 0.8878\n",
            "Epoch 4/10\n",
            "16/16 [==============================] - 0s 6ms/step - loss: 0.1921 - accuracy: 0.9078\n",
            "Epoch 5/10\n",
            "16/16 [==============================] - 0s 7ms/step - loss: 0.1877 - accuracy: 0.9138\n",
            "Epoch 6/10\n",
            "16/16 [==============================] - 0s 7ms/step - loss: 0.2654 - accuracy: 0.8918\n",
            "Epoch 7/10\n",
            "16/16 [==============================] - 0s 7ms/step - loss: 0.1671 - accuracy: 0.9138\n",
            "Epoch 8/10\n",
            "16/16 [==============================] - 0s 6ms/step - loss: 0.1973 - accuracy: 0.9058\n",
            "Epoch 9/10\n",
            "16/16 [==============================] - 0s 6ms/step - loss: 0.1077 - accuracy: 0.9419\n",
            "Epoch 10/10\n",
            "16/16 [==============================] - 0s 8ms/step - loss: 0.1030 - accuracy: 0.9619\n"
          ]
        },
        {
          "output_type": "execute_result",
          "data": {
            "text/plain": [
              "<keras.callbacks.History at 0x7f24ab165ed0>"
            ]
          },
          "metadata": {},
          "execution_count": 35
        }
      ]
    },
    {
      "cell_type": "code",
      "source": [
        "model_p.fit(X_train, y_train, epochs=10, batch_size=32)"
      ],
      "metadata": {
        "colab": {
          "base_uri": "https://localhost:8080/"
        },
        "id": "2CRqDUAnR23t",
        "outputId": "c9d0e491-8e55-472d-b998-6d820da5f53c"
      },
      "execution_count": 36,
      "outputs": [
        {
          "output_type": "stream",
          "name": "stdout",
          "text": [
            "Epoch 1/10\n",
            "16/16 [==============================] - 4s 6ms/step - loss: 1.0392 - accuracy: 0.6092\n",
            "Epoch 2/10\n",
            "16/16 [==============================] - 0s 5ms/step - loss: 0.8209 - accuracy: 0.7595\n",
            "Epoch 3/10\n",
            "16/16 [==============================] - 0s 5ms/step - loss: 0.5832 - accuracy: 0.8337\n",
            "Epoch 4/10\n",
            "16/16 [==============================] - 0s 5ms/step - loss: 0.4227 - accuracy: 0.8758\n",
            "Epoch 5/10\n",
            "16/16 [==============================] - 0s 5ms/step - loss: 0.3405 - accuracy: 0.8778\n",
            "Epoch 6/10\n",
            "16/16 [==============================] - 0s 5ms/step - loss: 0.3281 - accuracy: 0.8818\n",
            "Epoch 7/10\n",
            "16/16 [==============================] - 0s 5ms/step - loss: 0.3117 - accuracy: 0.8818\n",
            "Epoch 8/10\n",
            "16/16 [==============================] - 0s 5ms/step - loss: 0.2636 - accuracy: 0.8958\n",
            "Epoch 9/10\n",
            "16/16 [==============================] - 0s 5ms/step - loss: 0.2327 - accuracy: 0.9038\n",
            "Epoch 10/10\n",
            "16/16 [==============================] - 0s 5ms/step - loss: 0.2086 - accuracy: 0.9078\n"
          ]
        },
        {
          "output_type": "execute_result",
          "data": {
            "text/plain": [
              "<keras.callbacks.History at 0x7f24b40744c0>"
            ]
          },
          "metadata": {},
          "execution_count": 36
        }
      ]
    },
    {
      "cell_type": "code",
      "source": [
        "model_q.fit(X_train, y_train, epochs=10, batch_size=32)"
      ],
      "metadata": {
        "colab": {
          "base_uri": "https://localhost:8080/"
        },
        "id": "1ticYyESR2wU",
        "outputId": "770a0220-e19d-4c62-d631-9db399888923"
      },
      "execution_count": 37,
      "outputs": [
        {
          "output_type": "stream",
          "name": "stdout",
          "text": [
            "Epoch 1/10\n",
            "16/16 [==============================] - 3s 5ms/step - loss: 0.9665 - accuracy: 0.7134\n",
            "Epoch 2/10\n",
            "16/16 [==============================] - 0s 5ms/step - loss: 0.5673 - accuracy: 0.8437\n",
            "Epoch 3/10\n",
            "16/16 [==============================] - 0s 5ms/step - loss: 0.3475 - accuracy: 0.8858\n",
            "Epoch 4/10\n",
            "16/16 [==============================] - 0s 5ms/step - loss: 0.2425 - accuracy: 0.9058\n",
            "Epoch 5/10\n",
            "16/16 [==============================] - 0s 5ms/step - loss: 0.2038 - accuracy: 0.9078\n",
            "Epoch 6/10\n",
            "16/16 [==============================] - 0s 5ms/step - loss: 0.3111 - accuracy: 0.8758\n",
            "Epoch 7/10\n",
            "16/16 [==============================] - 0s 6ms/step - loss: 0.2300 - accuracy: 0.9098\n",
            "Epoch 8/10\n",
            "16/16 [==============================] - 0s 6ms/step - loss: 0.1455 - accuracy: 0.9339\n",
            "Epoch 9/10\n",
            "16/16 [==============================] - 0s 5ms/step - loss: 0.1292 - accuracy: 0.9559\n",
            "Epoch 10/10\n",
            "16/16 [==============================] - 0s 5ms/step - loss: 0.1025 - accuracy: 0.9719\n"
          ]
        },
        {
          "output_type": "execute_result",
          "data": {
            "text/plain": [
              "<keras.callbacks.History at 0x7f24aa1ba770>"
            ]
          },
          "metadata": {},
          "execution_count": 37
        }
      ]
    },
    {
      "cell_type": "code",
      "source": [
        "model_r.fit(X_train, y_train, epochs=10, batch_size=32)"
      ],
      "metadata": {
        "colab": {
          "base_uri": "https://localhost:8080/"
        },
        "id": "4oPT18V7R2oh",
        "outputId": "44c5b018-f986-4ffb-a05a-bcd9715b5abf"
      },
      "execution_count": 38,
      "outputs": [
        {
          "output_type": "stream",
          "name": "stdout",
          "text": [
            "Epoch 1/10\n",
            "16/16 [==============================] - 4s 6ms/step - loss: 0.9301 - accuracy: 0.6713\n",
            "Epoch 2/10\n",
            "16/16 [==============================] - 0s 5ms/step - loss: 0.4020 - accuracy: 0.8717\n",
            "Epoch 3/10\n",
            "16/16 [==============================] - 0s 5ms/step - loss: 0.2321 - accuracy: 0.9038\n",
            "Epoch 4/10\n",
            "16/16 [==============================] - 0s 5ms/step - loss: 0.1780 - accuracy: 0.9279\n",
            "Epoch 5/10\n",
            "16/16 [==============================] - 0s 5ms/step - loss: 0.3517 - accuracy: 0.8617\n",
            "Epoch 6/10\n",
            "16/16 [==============================] - 0s 5ms/step - loss: 0.2105 - accuracy: 0.8998\n",
            "Epoch 7/10\n",
            "16/16 [==============================] - 0s 6ms/step - loss: 0.1970 - accuracy: 0.9178\n",
            "Epoch 8/10\n",
            "16/16 [==============================] - 0s 5ms/step - loss: 0.1066 - accuracy: 0.9619\n",
            "Epoch 9/10\n",
            "16/16 [==============================] - 0s 5ms/step - loss: 0.0900 - accuracy: 0.9699\n",
            "Epoch 10/10\n",
            "16/16 [==============================] - 0s 6ms/step - loss: 0.1766 - accuracy: 0.9299\n"
          ]
        },
        {
          "output_type": "execute_result",
          "data": {
            "text/plain": [
              "<keras.callbacks.History at 0x7f24a8ea23e0>"
            ]
          },
          "metadata": {},
          "execution_count": 38
        }
      ]
    },
    {
      "cell_type": "code",
      "source": [
        "model_s.fit(X_train, y_train, epochs=10, batch_size=32)"
      ],
      "metadata": {
        "colab": {
          "base_uri": "https://localhost:8080/"
        },
        "id": "mFFu5mtoR2eg",
        "outputId": "46d007cd-7764-441e-9fd4-83fe2b5c51a4"
      },
      "execution_count": 39,
      "outputs": [
        {
          "output_type": "stream",
          "name": "stdout",
          "text": [
            "Epoch 1/10\n",
            "16/16 [==============================] - 4s 6ms/step - loss: 0.7105 - accuracy: 0.6894\n",
            "Epoch 2/10\n",
            "16/16 [==============================] - 0s 10ms/step - loss: 0.2664 - accuracy: 0.8898\n",
            "Epoch 3/10\n",
            "16/16 [==============================] - 0s 9ms/step - loss: 0.2893 - accuracy: 0.8798\n",
            "Epoch 4/10\n",
            "16/16 [==============================] - 0s 7ms/step - loss: 0.1774 - accuracy: 0.9118\n",
            "Epoch 5/10\n",
            "16/16 [==============================] - 0s 5ms/step - loss: 0.1455 - accuracy: 0.9439\n",
            "Epoch 6/10\n",
            "16/16 [==============================] - 0s 5ms/step - loss: 0.1143 - accuracy: 0.9479\n",
            "Epoch 7/10\n",
            "16/16 [==============================] - 0s 5ms/step - loss: 0.0931 - accuracy: 0.9679\n",
            "Epoch 8/10\n",
            "16/16 [==============================] - 0s 5ms/step - loss: 0.2459 - accuracy: 0.8998\n",
            "Epoch 9/10\n",
            "16/16 [==============================] - 0s 5ms/step - loss: 0.1617 - accuracy: 0.9399\n",
            "Epoch 10/10\n",
            "16/16 [==============================] - 0s 6ms/step - loss: 0.1199 - accuracy: 0.9479\n"
          ]
        },
        {
          "output_type": "execute_result",
          "data": {
            "text/plain": [
              "<keras.callbacks.History at 0x7f24a8b31e70>"
            ]
          },
          "metadata": {},
          "execution_count": 39
        }
      ]
    },
    {
      "cell_type": "code",
      "source": [
        "model_t.fit(X_train, y_train, epochs=10, batch_size=32)"
      ],
      "metadata": {
        "colab": {
          "base_uri": "https://localhost:8080/"
        },
        "id": "0IBi9BfWR2RW",
        "outputId": "e1d1d5ca-7317-48e9-d9e1-55ef4aad4c8d"
      },
      "execution_count": 40,
      "outputs": [
        {
          "output_type": "stream",
          "name": "stdout",
          "text": [
            "Epoch 1/10\n",
            "16/16 [==============================] - 4s 7ms/step - loss: 0.6805 - accuracy: 0.7375\n",
            "Epoch 2/10\n",
            "16/16 [==============================] - 0s 8ms/step - loss: 0.2924 - accuracy: 0.8878\n",
            "Epoch 3/10\n",
            "16/16 [==============================] - 0s 7ms/step - loss: 0.2094 - accuracy: 0.9078\n",
            "Epoch 4/10\n",
            "16/16 [==============================] - 0s 7ms/step - loss: 0.2023 - accuracy: 0.9018\n",
            "Epoch 5/10\n",
            "16/16 [==============================] - 0s 9ms/step - loss: 0.2487 - accuracy: 0.9138\n",
            "Epoch 6/10\n",
            "16/16 [==============================] - 0s 8ms/step - loss: 0.1890 - accuracy: 0.9178\n",
            "Epoch 7/10\n",
            "16/16 [==============================] - 0s 8ms/step - loss: 0.1404 - accuracy: 0.9439\n",
            "Epoch 8/10\n",
            "16/16 [==============================] - 0s 6ms/step - loss: 0.1856 - accuracy: 0.9299\n",
            "Epoch 9/10\n",
            "16/16 [==============================] - 0s 5ms/step - loss: 0.1360 - accuracy: 0.9439\n",
            "Epoch 10/10\n",
            "16/16 [==============================] - 0s 5ms/step - loss: 0.1631 - accuracy: 0.9218\n"
          ]
        },
        {
          "output_type": "execute_result",
          "data": {
            "text/plain": [
              "<keras.callbacks.History at 0x7f24a425c9d0>"
            ]
          },
          "metadata": {},
          "execution_count": 40
        }
      ]
    },
    {
      "cell_type": "code",
      "source": [
        "loss_a, accuracy_a = model_a.evaluate(X_test, y_test)\n",
        "loss_b, accuracy_b = model_b.evaluate(X_test, y_test)\n",
        "loss_c, accuracy_c = model_c.evaluate(X_test, y_test)\n",
        "loss_d, accuracy_d = model_d.evaluate(X_test, y_test)\n",
        "loss_e, accuracy_e = model_e.evaluate(X_test, y_test)\n",
        "loss_f, accuracy_f = model_f.evaluate(X_test, y_test)\n",
        "loss_g, accuracy_g = model_g.evaluate(X_test, y_test)\n",
        "loss_h, accuracy_h = model_h.evaluate(X_test, y_test)\n",
        "loss_i, accuracy_i = model_i.evaluate(X_test, y_test)\n",
        "loss_j, accuracy_j = model_j.evaluate(X_test, y_test)\n",
        "loss_k, accuracy_k = model_k.evaluate(X_test, y_test)\n",
        "loss_l, accuracy_l = model_l.evaluate(X_test, y_test)\n",
        "loss_m, accuracy_m = model_m.evaluate(X_test, y_test)\n",
        "loss_n, accuracy_n = model_n.evaluate(X_test, y_test)\n",
        "loss_o, accuracy_o = model_o.evaluate(X_test, y_test)\n",
        "loss_p, accuracy_p = model_p.evaluate(X_test, y_test)\n",
        "loss_q, accuracy_q = model_q.evaluate(X_test, y_test)\n",
        "loss_r, accuracy_r = model_r.evaluate(X_test, y_test)\n",
        "loss_s, accuracy_s = model_s.evaluate(X_test, y_test)\n",
        "loss_t, accuracy_t = model_t.evaluate(X_test, y_test)"
      ],
      "metadata": {
        "colab": {
          "base_uri": "https://localhost:8080/"
        },
        "id": "wcXsSONkKOQb",
        "outputId": "e7d0906b-aa3f-4112-97e1-a4b4e066757c"
      },
      "execution_count": 41,
      "outputs": [
        {
          "output_type": "stream",
          "name": "stdout",
          "text": [
            "4/4 [==============================] - 0s 5ms/step - loss: 0.5694 - accuracy: 0.8880\n",
            "4/4 [==============================] - 0s 4ms/step - loss: 0.4015 - accuracy: 0.8720\n",
            "4/4 [==============================] - 0s 5ms/step - loss: 0.4083 - accuracy: 0.8480\n",
            "4/4 [==============================] - 0s 4ms/step - loss: 0.3499 - accuracy: 0.8960\n",
            "4/4 [==============================] - 0s 4ms/step - loss: 0.3163 - accuracy: 0.9040\n",
            "4/4 [==============================] - 0s 4ms/step - loss: 0.2303 - accuracy: 0.8960\n",
            "4/4 [==============================] - 0s 4ms/step - loss: 0.1199 - accuracy: 0.9840\n",
            "4/4 [==============================] - 0s 5ms/step - loss: 0.0514 - accuracy: 1.0000\n",
            "4/4 [==============================] - 0s 8ms/step - loss: 0.0800 - accuracy: 0.9840\n",
            "4/4 [==============================] - 0s 4ms/step - loss: 0.0292 - accuracy: 1.0000\n",
            "4/4 [==============================] - 0s 4ms/step - loss: 0.2448 - accuracy: 0.8960\n",
            "4/4 [==============================] - 0s 4ms/step - loss: 0.0692 - accuracy: 0.9920\n",
            "4/4 [==============================] - 0s 4ms/step - loss: 0.0569 - accuracy: 0.9840\n",
            "4/4 [==============================] - 0s 4ms/step - loss: 0.0475 - accuracy: 0.9920\n",
            "4/4 [==============================] - 0s 5ms/step - loss: 0.0572 - accuracy: 0.9840\n",
            "4/4 [==============================] - 0s 4ms/step - loss: 0.2978 - accuracy: 0.8640\n",
            "4/4 [==============================] - 0s 5ms/step - loss: 0.1723 - accuracy: 0.9040\n",
            "4/4 [==============================] - 0s 5ms/step - loss: 0.3081 - accuracy: 0.8480\n",
            "4/4 [==============================] - 0s 4ms/step - loss: 0.1425 - accuracy: 0.9520\n",
            "4/4 [==============================] - 0s 5ms/step - loss: 0.1346 - accuracy: 0.9360\n"
          ]
        }
      ]
    },
    {
      "cell_type": "code",
      "source": [
        "print(\"Layers = 1, Neurônios = 25 - Acurácia:\", accuracy_a, \"Perda:\", loss_a)\n",
        "print(\"Layers = 1, Neurônios = 50 - Acurácia:\", accuracy_b, \"Perda:\", loss_b)\n",
        "print(\"Layers = 1, Neurônios = 100 - Acurácia:\", accuracy_c, \"Perda:\", loss_c)\n",
        "print(\"Layers = 1, Neurônios = 200 - Acurácia:\", accuracy_d, \"Perda:\", loss_d)\n",
        "print(\"Layers = 1, Neurônios = 500 - Acurácia:\", accuracy_e, \"Perda:\", loss_e)\n",
        "print(\"Layers = 5, Neurônios = 25 - Acurácia:\", accuracy_f, \"Perda:\", loss_f)\n",
        "print(\"Layers = 5, Neurônios = 50 - Acurácia:\", accuracy_g, \"Perda:\", loss_g)\n",
        "print(\"Layers = 5, Neurônios = 100 - Acurácia:\", accuracy_h, \"Perda:\", loss_h)\n",
        "print(\"Layers = 5, Neurônios = 200 - Acurácia:\", accuracy_i, \"Perda:\", loss_i)\n",
        "print(\"Layers = 5, Neurônios = 500 - Acurácia:\", accuracy_j, \"Perda:\", loss_j)\n",
        "print(\"Layers = 7, Neurônios = 25 - Acurácia:\", accuracy_k, \"Perda:\", loss_k)\n",
        "print(\"Layers = 7, Neurônios = 50 - Acurácia:\", accuracy_l, \"Perda:\", loss_l)\n",
        "print(\"Layers = 7, Neurônios = 100 - Acurácia:\", accuracy_m, \"Perda:\", loss_m)\n",
        "print(\"Layers = 7, Neurônios = 200 - Acurácia:\", accuracy_n, \"Perda:\", loss_n)\n",
        "print(\"Layers = 7, Neurônios = 500 - Acurácia:\", accuracy_o, \"Perda:\", loss_o)\n",
        "print(\"Layers = 10, Neurônios = 25 - Acurácia:\", accuracy_p, \"Perda:\", loss_p)\n",
        "print(\"Layers = 10, Neurônios = 50 - Acurácia:\", accuracy_q, \"Perda:\", loss_q)\n",
        "print(\"Layers = 10, Neurônios = 100 - Acurácia:\", accuracy_r, \"Perda:\", loss_r)\n",
        "print(\"Layers = 10, Neurônios = 200 - Acurácia:\", accuracy_s, \"Perda:\", loss_s)\n",
        "print(\"Layers = 10, Neurônios = 500 - Acurácia:\", accuracy_t, \"Perda:\", loss_t)"
      ],
      "metadata": {
        "colab": {
          "base_uri": "https://localhost:8080/"
        },
        "id": "5pgIF-20KOlC",
        "outputId": "8fa36308-2d6a-45e5-a748-2a6c07bc6421"
      },
      "execution_count": 42,
      "outputs": [
        {
          "output_type": "stream",
          "name": "stdout",
          "text": [
            "Layers = 1, Neurônios = 25 - Acurácia: 0.8880000114440918 Perda: 0.5693767070770264\n",
            "Layers = 1, Neurônios = 50 - Acurácia: 0.871999979019165 Perda: 0.4014894962310791\n",
            "Layers = 1, Neurônios = 100 - Acurácia: 0.8479999899864197 Perda: 0.4082682430744171\n",
            "Layers = 1, Neurônios = 200 - Acurácia: 0.8960000276565552 Perda: 0.3498895466327667\n",
            "Layers = 1, Neurônios = 500 - Acurácia: 0.9039999842643738 Perda: 0.31629833579063416\n",
            "Layers = 5, Neurônios = 25 - Acurácia: 0.8960000276565552 Perda: 0.23031100630760193\n",
            "Layers = 5, Neurônios = 50 - Acurácia: 0.984000027179718 Perda: 0.11988212168216705\n",
            "Layers = 5, Neurônios = 100 - Acurácia: 1.0 Perda: 0.051362618803977966\n",
            "Layers = 5, Neurônios = 200 - Acurácia: 0.984000027179718 Perda: 0.08003652095794678\n",
            "Layers = 5, Neurônios = 500 - Acurácia: 1.0 Perda: 0.029220255091786385\n",
            "Layers = 7, Neurônios = 25 - Acurácia: 0.8960000276565552 Perda: 0.24482709169387817\n",
            "Layers = 7, Neurônios = 50 - Acurácia: 0.9919999837875366 Perda: 0.06919209659099579\n",
            "Layers = 7, Neurônios = 100 - Acurácia: 0.984000027179718 Perda: 0.05694575980305672\n",
            "Layers = 7, Neurônios = 200 - Acurácia: 0.9919999837875366 Perda: 0.04746270924806595\n",
            "Layers = 7, Neurônios = 500 - Acurácia: 0.984000027179718 Perda: 0.05720110237598419\n",
            "Layers = 10, Neurônios = 25 - Acurácia: 0.8640000224113464 Perda: 0.2978154718875885\n",
            "Layers = 10, Neurônios = 50 - Acurácia: 0.9039999842643738 Perda: 0.17228826880455017\n",
            "Layers = 10, Neurônios = 100 - Acurácia: 0.8479999899864197 Perda: 0.3081115484237671\n",
            "Layers = 10, Neurônios = 200 - Acurácia: 0.9520000219345093 Perda: 0.14254365861415863\n",
            "Layers = 10, Neurônios = 500 - Acurácia: 0.9359999895095825 Perda: 0.13464629650115967\n"
          ]
        }
      ]
    },
    {
      "cell_type": "markdown",
      "source": [
        "Durante o experimento de otimização de hiperparâmetros em redes neurais MLP para classificação de dados, observamos que a quantidade de camadas parece ter um impacto maior do que o número de neurônios na precisão do modelo. Enquanto aumentar a quantidade de camadas pode melhorar a precisão, aumentar a quantidade de neurônios além de um certo ponto não impacta significativamente a precisão, mas aumenta o tempo de processamento do treinamento do modelo.\n",
        "\n",
        "Em algumas configurações com quantidades maiores de neurônios, observamos perda na acurácia. Isso sugere que há um equilíbrio entre a quantidade de camadas e neurônios que maximiza a precisão e minimiza o tempo de processamento.\n",
        "\n",
        "Ao testar diferentes configurações de camadas e neurônios, notamos que uma única camada não afeta significativamente a precisão com diferentes quantidades de neurônios. Por outro lado, a combinação de várias camadas com quantidades moderadas de neurônios pode levar a um melhor desempenho do modelo, embora em um certo ponto, aumentar a quantidade de neurônios comece a afetar negativamente a precisão do modelo.\n",
        "\n",
        "Com base nos resultados do experimento, podemos concluir que, de maneira geral, é melhor ter mais camadas com menos neurônios em uma rede neural MLP para obter uma maior precisão. No entanto, é importante encontrar um equilíbrio entre a quantidade de camadas e neurônios para maximizar o desempenho do modelo. Em particular, a configuração de 5 camadas e 200 neurônios parece ter sido a que proporcionou a melhor precisão e menor perda durante o experimento."
      ],
      "metadata": {
        "id": "0eMm_lMhVSiS"
      }
    }
  ],
  "metadata": {
    "colab": {
      "provenance": [],
      "gpuType": "T4"
    },
    "kernelspec": {
      "display_name": "Python 3",
      "name": "python3"
    },
    "accelerator": "GPU",
    "gpuClass": "standard"
  },
  "nbformat": 4,
  "nbformat_minor": 0
}