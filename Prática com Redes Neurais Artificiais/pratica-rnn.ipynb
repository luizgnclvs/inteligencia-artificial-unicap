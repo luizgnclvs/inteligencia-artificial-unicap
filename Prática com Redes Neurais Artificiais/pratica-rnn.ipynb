{
  "nbformat": 4,
  "nbformat_minor": 0,
  "metadata": {
    "colab": {
      "provenance": [],
      "gpuType": "T4"
    },
    "kernelspec": {
      "name": "python3",
      "display_name": "Python 3"
    },
    "language_info": {
      "name": "python"
    },
    "accelerator": "GPU",
    "gpuClass": "standard"
  },
  "cells": [
    {
      "cell_type": "code",
      "execution_count": 1,
      "metadata": {
        "id": "9nO6Cf0netae"
      },
      "outputs": [],
      "source": [
        "import tensorflow as tf"
      ]
    },
    {
      "cell_type": "code",
      "source": [
        "inputs = tf.keras.Input(shape=(4,))"
      ],
      "metadata": {
        "id": "7dHUTT8GfObQ"
      },
      "execution_count": 2,
      "outputs": []
    },
    {
      "cell_type": "code",
      "source": [
        "hidden_layer_1 = tf.keras.layers.Dense(units=5, activation='relu')(inputs)\n",
        "hidden_layer_2 = tf.keras.layers.Dense(units=5, activation='relu')(hidden_layer_1)"
      ],
      "metadata": {
        "id": "vVN8-d1rfOeN"
      },
      "execution_count": 3,
      "outputs": []
    },
    {
      "cell_type": "code",
      "source": [
        "outputs = tf.keras.layers.Dense(units=3, activation='softmax')(hidden_layer_2)"
      ],
      "metadata": {
        "id": "LkzlxW_ifOhy"
      },
      "execution_count": 4,
      "outputs": []
    },
    {
      "cell_type": "code",
      "source": [
        "model = tf.keras.Model(inputs=inputs, outputs=outputs)"
      ],
      "metadata": {
        "id": "TyaZbQ1xfOk7"
      },
      "execution_count": 5,
      "outputs": []
    },
    {
      "cell_type": "code",
      "source": [
        "model.compile(optimizer='adam', loss='categorical_crossentropy', metrics=['accuracy'])"
      ],
      "metadata": {
        "id": "CmO-arxefOn2"
      },
      "execution_count": 6,
      "outputs": []
    },
    {
      "cell_type": "code",
      "source": [
        "import pandas as pd\n",
        "\n",
        "df = pd.read_csv('iris.data')"
      ],
      "metadata": {
        "id": "o6aUl22-fOqN"
      },
      "execution_count": 7,
      "outputs": []
    },
    {
      "cell_type": "code",
      "source": [
        "x = df.iloc[:, :-1]\n",
        "y = df.iloc[:, -1]"
      ],
      "metadata": {
        "id": "UnDBjW5Fg8zu"
      },
      "execution_count": 8,
      "outputs": []
    },
    {
      "cell_type": "code",
      "source": [
        "from sklearn.preprocessing import LabelEncoder\n",
        "\n",
        "encoder = LabelEncoder()\n",
        "y = encoder.fit_transform(y)"
      ],
      "metadata": {
        "id": "ql8oJw_zg82K"
      },
      "execution_count": 9,
      "outputs": []
    },
    {
      "cell_type": "code",
      "source": [
        "from keras.utils import to_categorical\n",
        "\n",
        "y = to_categorical(y)"
      ],
      "metadata": {
        "id": "I4viqbRQg84y"
      },
      "execution_count": 10,
      "outputs": []
    },
    {
      "cell_type": "code",
      "source": [
        "from sklearn.model_selection import train_test_split\n",
        "\n",
        "X_train, X_test, y_train, y_test = train_test_split(x, y, test_size=0.2)"
      ],
      "metadata": {
        "id": "Cn9Lksg1g87N"
      },
      "execution_count": 11,
      "outputs": []
    },
    {
      "cell_type": "code",
      "source": [
        "model.fit(X_train, y_train, epochs=10, batch_size=32)"
      ],
      "metadata": {
        "colab": {
          "base_uri": "https://localhost:8080/"
        },
        "id": "2zi8t5tJg8-T",
        "outputId": "2b797656-1042-404e-a2a6-4e4ba4310bf6"
      },
      "execution_count": 12,
      "outputs": [
        {
          "output_type": "stream",
          "name": "stdout",
          "text": [
            "Epoch 1/10\n",
            "4/4 [==============================] - 7s 12ms/step - loss: 1.0979 - accuracy: 0.3613\n",
            "Epoch 2/10\n",
            "4/4 [==============================] - 0s 8ms/step - loss: 1.0973 - accuracy: 0.3361\n",
            "Epoch 3/10\n",
            "4/4 [==============================] - 0s 8ms/step - loss: 1.0968 - accuracy: 0.3445\n",
            "Epoch 4/10\n",
            "4/4 [==============================] - 0s 9ms/step - loss: 1.0959 - accuracy: 0.4286\n",
            "Epoch 5/10\n",
            "4/4 [==============================] - 0s 13ms/step - loss: 1.0948 - accuracy: 0.3613\n",
            "Epoch 6/10\n",
            "4/4 [==============================] - 0s 9ms/step - loss: 1.0935 - accuracy: 0.3866\n",
            "Epoch 7/10\n",
            "4/4 [==============================] - 0s 9ms/step - loss: 1.0920 - accuracy: 0.3866\n",
            "Epoch 8/10\n",
            "4/4 [==============================] - 0s 11ms/step - loss: 1.0902 - accuracy: 0.3697\n",
            "Epoch 9/10\n",
            "4/4 [==============================] - 0s 6ms/step - loss: 1.0882 - accuracy: 0.3613\n",
            "Epoch 10/10\n",
            "4/4 [==============================] - 0s 7ms/step - loss: 1.0860 - accuracy: 0.3445\n"
          ]
        },
        {
          "output_type": "execute_result",
          "data": {
            "text/plain": [
              "<keras.callbacks.History at 0x7efbec20b520>"
            ]
          },
          "metadata": {},
          "execution_count": 12
        }
      ]
    }
  ]
}